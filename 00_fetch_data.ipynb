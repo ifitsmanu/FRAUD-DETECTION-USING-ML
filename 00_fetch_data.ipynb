{
  "cells": [
    {
      "cell_type": "markdown",
      "id": "JMVZ7azFZePY",
      "metadata": {
        "id": "JMVZ7azFZePY"
      },
      "source": [
        "# Import required libraries\n"
      ]
    },
    {
      "cell_type": "code",
      "execution_count": 1,
      "id": "0ItNnwkChZrX",
      "metadata": {
        "colab": {
          "base_uri": "https://localhost:8080/"
        },
        "id": "0ItNnwkChZrX",
        "outputId": "996764e1-d2f0-4c21-a567-841cb995311a"
      },
      "outputs": [
        {
          "name": "stdout",
          "output_type": "stream",
          "text": [
            "Note: you may need to restart the kernel to use updated packages.\n",
            "Note: you may need to restart the kernel to use updated packages.\n"
          ]
        }
      ],
      "source": [
        "%pip install comet_ml --quiet\n",
        "%pip install gdown --upgrade --quiet"
      ]
    },
    {
      "cell_type": "code",
      "execution_count": null,
      "id": "kXGsUy2KZePa",
      "metadata": {
        "id": "kXGsUy2KZePa"
      },
      "outputs": [],
      "source": [
        "import numpy as np\n",
        "import pandas as pd\n",
        "import os\n",
        "import gdown\n",
        "import comet_ml\n",
        "from comet_ml import Artifact, Experiment"
      ]
    },
    {
      "cell_type": "markdown",
      "id": "VF4bfR2_ZePd",
      "metadata": {
        "id": "VF4bfR2_ZePd"
      },
      "source": [
        "## Read in raw data as pandas DataFrame for inspection"
      ]
    },
    {
      "cell_type": "code",
      "execution_count": 8,
      "id": "EIBtyccaZePe",
      "metadata": {
        "colab": {
          "base_uri": "https://localhost:8080/"
        },
        "id": "EIBtyccaZePe",
        "outputId": "0b2903b8-6ed9-475b-ec0c-f4f985091cbf"
      },
      "outputs": [],
      "source": [
        "import csv\n",
        "import pandas\n",
        "df = pandas.read_csv('paysim-data.csv')\n",
        "raw_data = raw_data.to_parquet()\n"
      ]
    },
    {
      "cell_type": "markdown",
      "id": "8G-ZbZ57ZePe",
      "metadata": {
        "id": "8G-ZbZ57ZePe"
      },
      "source": [
        "This data is pretty decently sized at 6.3M rows and about 500MB in size.\n",
        "\n",
        "Before we log this as an artificat, let's put it into a more lightweight filetype - a parquet file.\n",
        "\n",
        "Make sure you already have `pyarrow` installed before running the `to_parquet` method of the DataFrame."
      ]
    },
    {
      "cell_type": "code",
      "execution_count": 10,
      "id": "ZPo1vEtRZePf",
      "metadata": {
        "id": "ZPo1vEtRZePf"
      },
      "outputs": [],
      "source": [
        "raw_data.to_parquet('paysim-data.parquet.gzip', compression='gzip')"
      ]
    },
    {
      "cell_type": "markdown",
      "id": "QfWXcugXZePf",
      "metadata": {
        "id": "QfWXcugXZePf"
      },
      "source": [
        "# Creating an Artifact \n",
        "\n",
        "Let's go ahead and create an Artifact object!\n",
        "\n",
        "To create and track an Artifact on Comet, we will need to: \n",
        "\n",
        "1. Initialize Comet and set your API key and Project Name\n",
        "2. Create an Experiment object to log the Artifact\n",
        "3. Create an Artifact Object and provide some metadata \n",
        "4. Add the dataset to the Artifact object\n",
        "5. Upload the data to Comet using `experiment.log_artifact`\n",
        "\n",
        "Let's go ahead and walk through these steps.\n",
        "\n",
        "\n",
        "**Important Note:** Artifact names and types are user defined strings that are used for organization in the UI. You can set these to be anything you want, but it is recommended that you give them meaningful names so that it is easy to reason about what they contain. \n"
      ]
    },
    {
      "cell_type": "markdown",
      "id": "d0GCERcXZePg",
      "metadata": {
        "id": "d0GCERcXZePg"
      },
      "source": [
        "## 1. Initialize Comet and set your API key and project name"
      ]
    },
    {
      "cell_type": "code",
      "execution_count": 6,
      "id": "iO-yctl6ZePg",
      "metadata": {
        "colab": {
          "base_uri": "https://localhost:8080/"
        },
        "id": "iO-yctl6ZePg",
        "outputId": "b03eabd3-e67a-4113-c599-308c98c2bf9e",
        "scrolled": true
      },
      "outputs": [
        {
          "name": "stdout",
          "output_type": "stream",
          "text": [
            "Please enter your Comet API key from https://www.comet.com/api/my/settings/\n",
            "(api key may not show as you type)\n"
          ]
        }
      ],
      "source": [
        "PROJECT_NAME = 'fraud-detection-demo'\n",
        "comet_ml.init(workspace='team-comet-ml', project_name=PROJECT_NAME)"
      ]
    },
    {
      "cell_type": "markdown",
      "id": "BB4oUSCnZePh",
      "metadata": {
        "id": "BB4oUSCnZePh"
      },
      "source": [
        "## 2. Create an Experiment object to log the Artifact\n",
        "\n",
        "Comet Artifacts allow keeping track of assets beyond any particular experiment. \n",
        "\n",
        "You can keep track of Artifact versions, create many types of assets, manage them, and use them in any step in your ML pipelines---from training to production deployment."
      ]
    },
    {
      "cell_type": "code",
      "execution_count": null,
      "id": "ySu7AZ-aZePh",
      "metadata": {
        "colab": {
          "base_uri": "https://localhost:8080/"
        },
        "id": "ySu7AZ-aZePh",
        "outputId": "b0b5895a-007d-42a8-c251-e599bc6e0cec"
      },
      "outputs": [
        {
          "name": "stderr",
          "output_type": "stream",
          "text": [
            "COMET WARNING: As you are running in a Jupyter environment, you will need to call `experiment.end()` when finished to ensure all metrics and code are logged before exiting.\n",
            "COMET INFO: Couldn't find a Git repository in '/content' and lookings in parents. You can override where Comet is looking for a Git Patch by setting the configuration `COMET_GIT_DIRECTORY`\n",
            "COMET INFO: Experiment is live on comet.ml https://www.comet.ml/team-comet-ml/fraud-detection-demo/441c93f3ca504064ad7871e97e4e1aaf\n",
            "\n"
          ]
        }
      ],
      "source": [
        "experiment = Experiment(\n",
        "    project_name=PROJECT_NAME\n",
        ")\n",
        "experiment.set_name('fetch-data')\n",
        "experiment.add_tag('raw-data')"
      ]
    },
    {
      "cell_type": "markdown",
      "id": "xCpMsrJmZePh",
      "metadata": {
        "id": "xCpMsrJmZePh"
      },
      "source": [
        "## 3. Create an Artifact object and provide some metadata \n",
        "\n",
        "Let's track our dataset with an Artifact! \n",
        "\n",
        "In order to create an Artifact, we have to provide a name for it. We can also provide some additional information about the Artifact, such as a type string that identifies what kind of Artifact you are uploading (a model, dataset, etc).\n",
        "\n",
        "We can add alias identifiers to the Artifact, such as \"raw-data\", \"test-data\" or \"staging-model\". \n",
        "\n",
        "These Artifacts can then be retrieved based on these aliases, we'll see just how to do in other notebooks in this series.\n",
        "\n",
        "We will add a metadata dictionary containing any other additional information about your Artifact in this dictionary.\n"
      ]
    },
    {
      "cell_type": "code",
      "execution_count": null,
      "id": "J1fNsBi_ZePh",
      "metadata": {
        "id": "J1fNsBi_ZePh"
      },
      "outputs": [],
      "source": [
        "artifact = Artifact(name=\"paysim-data\",\n",
        "                    artifact_type=\"tabluar dataset\",\n",
        "                    aliases=[\"raw-data\"],\n",
        "                    metadata={'filetype':'parquet', \n",
        "                              'original_source':'Downloaded from stakeholders Google Drive,file id = 1DtPhOdYXNsjW2EjysLvblSCBkCLJ'}\n",
        ")"
      ]
    },
    {
      "cell_type": "markdown",
      "id": "2EIGADM1ZePi",
      "metadata": {
        "id": "2EIGADM1ZePi"
      },
      "source": [
        "## 4. Add the dataset to the Artifact object\n"
      ]
    },
    {
      "cell_type": "code",
      "execution_count": null,
      "id": "O14Sng14ZePi",
      "metadata": {
        "id": "O14Sng14ZePi"
      },
      "outputs": [],
      "source": [
        "artifact.add(\"paysim-data.parquet.gzip\")"
      ]
    },
    {
      "cell_type": "markdown",
      "id": "uwnYUe_jZePi",
      "metadata": {
        "id": "uwnYUe_jZePi"
      },
      "source": [
        "## 5. Upload the data to Comet using `experiment.log_artifact`"
      ]
    },
    {
      "cell_type": "code",
      "execution_count": null,
      "id": "YkBeA9pOZePi",
      "metadata": {
        "colab": {
          "base_uri": "https://localhost:8080/"
        },
        "id": "YkBeA9pOZePi",
        "outputId": "6c46f726-e3ca-483b-8e2d-4ee47fe34f7c"
      },
      "outputs": [
        {
          "name": "stderr",
          "output_type": "stream",
          "text": [
            "COMET INFO: Artifact 'paysim-data' version 1.0.0 created (previous was: 0.0.1)\n",
            "COMET INFO: Scheduling the upload of 1 assets for a size of 171.93 MB, this can take some time\n",
            "COMET INFO: Artifact 'team-comet-ml/paysim-data:1.0.0' has started uploading asynchronously\n",
            "COMET INFO: ---------------------------\n",
            "COMET INFO: Comet.ml Experiment Summary\n",
            "COMET INFO: ---------------------------\n",
            "COMET INFO:   Data:\n",
            "COMET INFO:     display_summary_level : 1\n",
            "COMET INFO:     url                   : https://www.comet.ml/team-comet-ml/fraud-detection-demo/441c93f3ca504064ad7871e97e4e1aaf\n",
            "COMET INFO:   Others:\n",
            "COMET INFO:     Name : fetch-data\n",
            "COMET INFO:   Uploads:\n",
            "COMET INFO:     artifact assets     : 1 (171.93 MB)\n",
            "COMET INFO:     artifacts           : 1\n",
            "COMET INFO:     environment details : 1\n",
            "COMET INFO:     filename            : 1\n",
            "COMET INFO:     installed packages  : 1\n",
            "COMET INFO:     notebook            : 1\n",
            "COMET INFO:     os packages         : 1\n",
            "COMET INFO:     source_code         : 1\n",
            "COMET INFO: ---------------------------\n",
            "COMET INFO: Uploading metrics, params, and assets to Comet before program termination (may take several seconds)\n",
            "COMET INFO: The Python SDK has 3600 seconds to finish before aborting...\n",
            "COMET INFO: Waiting for completion of the file uploads (may take several seconds)\n",
            "COMET INFO: The Python SDK has 10800 seconds to finish before aborting...\n",
            "COMET INFO: Still uploading 1 file(s), remaining 105.25 MB/171.94 MB\n",
            "COMET INFO: Artifact 'team-comet-ml/paysim-data:1.0.0' has been fully uploaded successfully\n"
          ]
        }
      ],
      "source": [
        "experiment.log_artifact(artifact)\n",
        "experiment.end()"
      ]
    }
  ],
  "metadata": {
    "colab": {
      "provenance": []
    },
    "kernelspec": {
      "display_name": "Python 3",
      "language": "python",
      "name": "python3"
    },
    "language_info": {
      "codemirror_mode": {
        "name": "ipython",
        "version": 3
      },
      "file_extension": ".py",
      "mimetype": "text/x-python",
      "name": "python",
      "nbconvert_exporter": "python",
      "pygments_lexer": "ipython3",
      "version": "3.11.1 (v3.11.1:a7a450f84a, Dec  6 2022, 15:24:06) [Clang 13.0.0 (clang-1300.0.29.30)]"
    },
    "vscode": {
      "interpreter": {
        "hash": "aee8b7b246df8f9039afb4144a1f6fd8d2ca17a180786b69acc140d282b71a49"
      }
    }
  },
  "nbformat": 4,
  "nbformat_minor": 5
}
