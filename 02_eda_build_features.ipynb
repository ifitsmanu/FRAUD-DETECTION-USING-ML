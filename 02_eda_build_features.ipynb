{
  "cells": [
    {
      "cell_type": "code",
      "execution_count": null,
      "metadata": {
        "id": "OUSNPyp3Kiqj"
      },
      "outputs": [],
      "source": [
        "%pip install comet_ml --quiet\n",
        "%pip install seaborn  --quiet\n",
        "%pip install matplotlib --quiet\n",
        "%pip install imblearn --quiet\n",
        "%pip install scikit-learn --quiet"
      ]
    },
    {
      "cell_type": "code",
      "execution_count": null,
      "metadata": {
        "colab": {
          "base_uri": "https://localhost:8080/"
        },
        "id": "Z0VszUpLZ9sI",
        "outputId": "c79c096e-39ae-4e31-c88b-61074c2019fb"
      },
      "outputs": [
        {
          "name": "stdout",
          "output_type": "stream",
          "text": [
            "Please enter your Comet API key from https://www.comet.ml/api/my/settings/\n",
            "(api key may not show as you type)\n",
            "Comet API key: ··········\n"
          ]
        },
        {
          "name": "stderr",
          "output_type": "stream",
          "text": [
            "COMET INFO: Comet API key is valid\n",
            "COMET INFO: Comet API key saved in /root/.comet.config\n"
          ]
        }
      ],
      "source": [
        "import pandas as pd \n",
        "import numpy as np\n",
        "import seaborn as sns\n",
        "import matplotlib.pyplot as plt\n",
        "import comet_ml\n",
        "from comet_ml import Experiment, Artifact\n",
        "from sklearn.preprocessing import LabelEncoder\n",
        "from imblearn.over_sampling import SMOTE \n",
        "\n",
        "comet_ml.init()\n",
        "\n"
      ]
    },
    {
      "cell_type": "code",
      "execution_count": null,
      "metadata": {
        "colab": {
          "base_uri": "https://localhost:8080/"
        },
        "id": "z-Mt-GGvO2ym",
        "outputId": "62617704-0a2d-4520-bed1-5ba7d577449e"
      },
      "outputs": [
        {
          "name": "stderr",
          "output_type": "stream",
          "text": [
            "COMET WARNING: As you are running in a Jupyter environment, you will need to call `experiment.end()` when finished to ensure all metrics and code are logged before exiting.\n",
            "COMET INFO: Couldn't find a Git repository in '/content' and lookings in parents. You can override where Comet is looking for a Git Patch by setting the configuration `COMET_GIT_DIRECTORY`\n",
            "COMET INFO: Experiment is live on comet.ml https://www.comet.ml/team-comet-ml/fraud-detection-demo/16335cea54824c4894e7c166b601fb99\n",
            "\n",
            "COMET INFO: Artifact 'team-comet-ml/paysim-data:1.0.0' download has been started asynchronously\n",
            "COMET INFO: Still downloading 1 file(s), remaining 171.93 MB/171.93 MB\n",
            "COMET INFO: Artifact 'team-comet-ml/paysim-data:1.0.0' has been successfully downloaded\n"
          ]
        },
        {
          "data": {
            "text/plain": [
              "Artifact(name='paysim-data', artifact_type='tabluar dataset', version=None, aliases=set(), version_tags=set())"
            ]
          },
          "execution_count": 6,
          "metadata": {},
          "output_type": "execute_result"
        }
      ],
      "source": [
        "experiment = Experiment(workspace='team-comet-ml', project_name='fraud-detection-demo')\n",
        "experiment.add_tag(\"feature-engineering\")\n",
        "experiment.set_name(\"eda-feature-engineering\")\n",
        "logged_artifact = experiment.get_artifact(\"paysim-data\")\n",
        "logged_artifact.download(path = './')"
      ]
    },
    {
      "cell_type": "code",
      "execution_count": null,
      "metadata": {
        "colab": {
          "base_uri": "https://localhost:8080/",
          "height": 204
        },
        "id": "D55NKNahZ9sK",
        "outputId": "7aaf22c5-a161-4489-ef68-53d13a496242"
      },
      "outputs": [
        {
          "data": {
            "text/html": [
              "<div>\n",
              "<style scoped>\n",
              "    .dataframe tbody tr th:only-of-type {\n",
              "        vertical-align: middle;\n",
              "    }\n",
              "\n",
              "    .dataframe tbody tr th {\n",
              "        vertical-align: top;\n",
              "    }\n",
              "\n",
              "    .dataframe thead th {\n",
              "        text-align: right;\n",
              "    }\n",
              "</style>\n",
              "<table border=\"1\" class=\"dataframe\">\n",
              "  <thead>\n",
              "    <tr style=\"text-align: right;\">\n",
              "      <th></th>\n",
              "      <th>step</th>\n",
              "      <th>type</th>\n",
              "      <th>amount</th>\n",
              "      <th>nameOrig</th>\n",
              "      <th>oldbalanceOrg</th>\n",
              "      <th>newbalanceOrig</th>\n",
              "      <th>nameDest</th>\n",
              "      <th>oldbalanceDest</th>\n",
              "      <th>newbalanceDest</th>\n",
              "      <th>isFraud</th>\n",
              "      <th>isFlaggedFraud</th>\n",
              "    </tr>\n",
              "  </thead>\n",
              "  <tbody>\n",
              "    <tr>\n",
              "      <th>0</th>\n",
              "      <td>1</td>\n",
              "      <td>PAYMENT</td>\n",
              "      <td>9839.64</td>\n",
              "      <td>C1231006815</td>\n",
              "      <td>170136.0</td>\n",
              "      <td>160296.36</td>\n",
              "      <td>M1979787155</td>\n",
              "      <td>0.0</td>\n",
              "      <td>0.0</td>\n",
              "      <td>0</td>\n",
              "      <td>0</td>\n",
              "    </tr>\n",
              "    <tr>\n",
              "      <th>1</th>\n",
              "      <td>1</td>\n",
              "      <td>PAYMENT</td>\n",
              "      <td>1864.28</td>\n",
              "      <td>C1666544295</td>\n",
              "      <td>21249.0</td>\n",
              "      <td>19384.72</td>\n",
              "      <td>M2044282225</td>\n",
              "      <td>0.0</td>\n",
              "      <td>0.0</td>\n",
              "      <td>0</td>\n",
              "      <td>0</td>\n",
              "    </tr>\n",
              "    <tr>\n",
              "      <th>2</th>\n",
              "      <td>1</td>\n",
              "      <td>TRANSFER</td>\n",
              "      <td>181.00</td>\n",
              "      <td>C1305486145</td>\n",
              "      <td>181.0</td>\n",
              "      <td>0.00</td>\n",
              "      <td>C553264065</td>\n",
              "      <td>0.0</td>\n",
              "      <td>0.0</td>\n",
              "      <td>1</td>\n",
              "      <td>0</td>\n",
              "    </tr>\n",
              "    <tr>\n",
              "      <th>3</th>\n",
              "      <td>1</td>\n",
              "      <td>CASH_OUT</td>\n",
              "      <td>181.00</td>\n",
              "      <td>C840083671</td>\n",
              "      <td>181.0</td>\n",
              "      <td>0.00</td>\n",
              "      <td>C38997010</td>\n",
              "      <td>21182.0</td>\n",
              "      <td>0.0</td>\n",
              "      <td>1</td>\n",
              "      <td>0</td>\n",
              "    </tr>\n",
              "    <tr>\n",
              "      <th>4</th>\n",
              "      <td>1</td>\n",
              "      <td>PAYMENT</td>\n",
              "      <td>11668.14</td>\n",
              "      <td>C2048537720</td>\n",
              "      <td>41554.0</td>\n",
              "      <td>29885.86</td>\n",
              "      <td>M1230701703</td>\n",
              "      <td>0.0</td>\n",
              "      <td>0.0</td>\n",
              "      <td>0</td>\n",
              "      <td>0</td>\n",
              "    </tr>\n",
              "  </tbody>\n",
              "</table>\n",
              "</div>"
            ],
            "text/plain": [
              "   step      type    amount  ... newbalanceDest  isFraud  isFlaggedFraud\n",
              "0     1   PAYMENT   9839.64  ...            0.0        0               0\n",
              "1     1   PAYMENT   1864.28  ...            0.0        0               0\n",
              "2     1  TRANSFER    181.00  ...            0.0        1               0\n",
              "3     1  CASH_OUT    181.00  ...            0.0        1               0\n",
              "4     1   PAYMENT  11668.14  ...            0.0        0               0\n",
              "\n",
              "[5 rows x 11 columns]"
            ]
          },
          "execution_count": 7,
          "metadata": {},
          "output_type": "execute_result"
        }
      ],
      "source": [
        "raw_data = pd.read_parquet('paysim-data.parquet.gzip')\n",
        "raw_data.head()"
      ]
    },
    {
      "cell_type": "markdown",
      "metadata": {
        "id": "Qvm4ConXZ9sK"
      },
      "source": [
        "From the data understaning notebook we found that fraudulent transactions only occurr in `CASH_OUT` and `TRANSFER` type of transactions. \n",
        "\n",
        "Let's subset out data to only consider those transaction types.\n"
      ]
    },
    {
      "cell_type": "code",
      "execution_count": null,
      "metadata": {
        "colab": {
          "base_uri": "https://localhost:8080/"
        },
        "id": "016zED-gZ9sK",
        "outputId": "67049deb-4a6e-4c80-caa1-b3be6689dd9e"
      },
      "outputs": [
        {
          "data": {
            "text/plain": [
              "(2770409, 11)"
            ]
          },
          "execution_count": 8,
          "metadata": {},
          "output_type": "execute_result"
        }
      ],
      "source": [
        "#subset full data down to only rows where transaction type is CASH_OUT or TRANSFER\n",
        "cash_out_transfer_transactions = raw_data[(raw_data['type'] == 'CASH_OUT') | (raw_data['type']== 'TRANSFER')]\n",
        "cash_out_transfer_transactions.shape"
      ]
    },
    {
      "cell_type": "code",
      "execution_count": null,
      "metadata": {
        "colab": {
          "base_uri": "https://localhost:8080/"
        },
        "id": "XliG2z5xZ9sK",
        "outputId": "795452d4-068f-4892-cf29-9a9c5433387f"
      },
      "outputs": [
        {
          "name": "stderr",
          "output_type": "stream",
          "text": [
            "/usr/local/lib/python3.7/dist-packages/ipykernel_launcher.py:3: SettingWithCopyWarning:\n",
            "\n",
            "\n",
            "A value is trying to be set on a copy of a slice from a DataFrame.\n",
            "Try using .loc[row_indexer,col_indexer] = value instead\n",
            "\n",
            "See the caveats in the documentation: https://pandas.pydata.org/pandas-docs/stable/user_guide/indexing.html#returning-a-view-versus-a-copy\n",
            "\n"
          ]
        }
      ],
      "source": [
        "# TRANSFER encoded as 1, CASH_OUT encoded as 0\n",
        "le = LabelEncoder()\n",
        "cash_out_transfer_transactions['type_encoded'] = le.fit_transform(cash_out_transfer_transactions['type'])"
      ]
    },
    {
      "cell_type": "markdown",
      "metadata": {
        "id": "QCosjawZZ9sL"
      },
      "source": [
        "By subsetting our data we went from 6,362,620 rows to 2,770,409 rows.\n",
        "\n",
        "Let's create a column which indicates the type of transfer of funds from `nameOrig` to `nameDest`.\n",
        "\n",
        "Speaking to the stakeholders learn that the naming scheme for both `nameDest` and `nameOrig` columns is as follows: IDs beginning with `C` indicate it is a customer account, and IDs beginning with `M` indicate it is a merchant account.\n",
        "\n",
        "We can create a new feature, called `OrigToDest`, which takes on the following values:\n",
        "\n",
        " - CC: inidcating a customer to customer transaction\n",
        " - CM: indicating a customer to merchant transaction\n",
        " - MC: indicating a merchant to customer transaction\n",
        " - MM: indicating a merchant to merchant transaction\n",
        "\n",
        " "
      ]
    },
    {
      "cell_type": "code",
      "execution_count": null,
      "metadata": {
        "colab": {
          "base_uri": "https://localhost:8080/"
        },
        "id": "H473TXZeZ9sL",
        "outputId": "c71e6dbd-9193-4622-9f55-f77f1f3aa4ed"
      },
      "outputs": [
        {
          "name": "stderr",
          "output_type": "stream",
          "text": [
            "/usr/local/lib/python3.7/dist-packages/ipykernel_launcher.py:2: SettingWithCopyWarning:\n",
            "\n",
            "\n",
            "A value is trying to be set on a copy of a slice from a DataFrame.\n",
            "Try using .loc[row_indexer,col_indexer] = value instead\n",
            "\n",
            "See the caveats in the documentation: https://pandas.pydata.org/pandas-docs/stable/user_guide/indexing.html#returning-a-view-versus-a-copy\n",
            "\n"
          ]
        }
      ],
      "source": [
        "# Creating feature to indicate the flow of transaction; ie customer to customer, merhcant to customer, etc\n",
        "cash_out_transfer_transactions['OrigToDes'] = cash_out_transfer_transactions['nameOrig'].str[0] + cash_out_transfer_transactions['nameDest'].str[0] "
      ]
    },
    {
      "cell_type": "code",
      "execution_count": null,
      "metadata": {
        "colab": {
          "base_uri": "https://localhost:8080/"
        },
        "id": "_SoScuqmZ9sL",
        "outputId": "a66c79f9-b591-4d5d-aec7-f88b90ae6c87"
      },
      "outputs": [
        {
          "data": {
            "text/plain": [
              "CC    2770409\n",
              "Name: OrigToDes, dtype: int64"
            ]
          },
          "execution_count": 11,
          "metadata": {},
          "output_type": "execute_result"
        }
      ],
      "source": [
        "cash_out_transfer_transactions['OrigToDes'].value_counts()"
      ]
    },
    {
      "cell_type": "markdown",
      "metadata": {
        "id": "ViwNoVSdZ9sL"
      },
      "source": [
        "Alright, so looks like all transactions are customer-to-customer.\n",
        "\n",
        "So, creating that feature didn't add much value. \n",
        "\n",
        "It's all good.\n",
        "\n",
        "I'm curious to see how many unique values we have for `nameDest` and `nameOrig`.\n",
        "\n",
        "I then want to  create a crosstab between fraudulent transactions and type of transaction to get an idea of the distribution of fraudulent transactions across transaction types."
      ]
    },
    {
      "cell_type": "code",
      "execution_count": null,
      "metadata": {
        "colab": {
          "base_uri": "https://localhost:8080/"
        },
        "id": "88gOVnbwZ9sM",
        "outputId": "8e09860f-51d5-4f58-bd31-d864914ee417"
      },
      "outputs": [
        {
          "data": {
            "text/plain": [
              "509565"
            ]
          },
          "execution_count": 12,
          "metadata": {},
          "output_type": "execute_result"
        }
      ],
      "source": [
        "# countig number of unique destination accounts\n",
        "cash_out_transfer_transactions['nameDest'].nunique()"
      ]
    },
    {
      "cell_type": "code",
      "execution_count": null,
      "metadata": {
        "colab": {
          "base_uri": "https://localhost:8080/"
        },
        "id": "vM0PHc8CZ9sM",
        "outputId": "46294fc3-6aa1-4715-c04b-fe5e6712adf4"
      },
      "outputs": [
        {
          "data": {
            "text/plain": [
              "2768630"
            ]
          },
          "execution_count": 13,
          "metadata": {},
          "output_type": "execute_result"
        }
      ],
      "source": [
        "# countig number of unique origin accounts\n",
        "cash_out_transfer_transactions['nameOrig'].nunique()"
      ]
    },
    {
      "cell_type": "code",
      "execution_count": null,
      "metadata": {
        "colab": {
          "base_uri": "https://localhost:8080/",
          "height": 450
        },
        "id": "_wFX3o2-Z9sM",
        "outputId": "94b705e8-9452-4064-e85c-09990f79e042"
      },
      "outputs": [
        {
          "data": {
            "text/html": [
              "<div>\n",
              "<style scoped>\n",
              "    .dataframe tbody tr th:only-of-type {\n",
              "        vertical-align: middle;\n",
              "    }\n",
              "\n",
              "    .dataframe tbody tr th {\n",
              "        vertical-align: top;\n",
              "    }\n",
              "\n",
              "    .dataframe thead th {\n",
              "        text-align: right;\n",
              "    }\n",
              "</style>\n",
              "<table border=\"1\" class=\"dataframe\">\n",
              "  <thead>\n",
              "    <tr style=\"text-align: right;\">\n",
              "      <th></th>\n",
              "      <th>nameDest</th>\n",
              "      <th>isFraud</th>\n",
              "    </tr>\n",
              "    <tr>\n",
              "      <th>nameDest</th>\n",
              "      <th></th>\n",
              "      <th></th>\n",
              "    </tr>\n",
              "  </thead>\n",
              "  <tbody>\n",
              "    <tr>\n",
              "      <th>C967226405</th>\n",
              "      <td>12</td>\n",
              "      <td>2</td>\n",
              "    </tr>\n",
              "    <tr>\n",
              "      <th>C1325541393</th>\n",
              "      <td>19</td>\n",
              "      <td>2</td>\n",
              "    </tr>\n",
              "    <tr>\n",
              "      <th>C650699445</th>\n",
              "      <td>8</td>\n",
              "      <td>2</td>\n",
              "    </tr>\n",
              "    <tr>\n",
              "      <th>C686334805</th>\n",
              "      <td>2</td>\n",
              "      <td>2</td>\n",
              "    </tr>\n",
              "    <tr>\n",
              "      <th>C964377943</th>\n",
              "      <td>4</td>\n",
              "      <td>2</td>\n",
              "    </tr>\n",
              "    <tr>\n",
              "      <th>...</th>\n",
              "      <td>...</td>\n",
              "      <td>...</td>\n",
              "    </tr>\n",
              "    <tr>\n",
              "      <th>C1649522050</th>\n",
              "      <td>3</td>\n",
              "      <td>0</td>\n",
              "    </tr>\n",
              "    <tr>\n",
              "      <th>C1649521180</th>\n",
              "      <td>6</td>\n",
              "      <td>0</td>\n",
              "    </tr>\n",
              "    <tr>\n",
              "      <th>C1649517881</th>\n",
              "      <td>6</td>\n",
              "      <td>0</td>\n",
              "    </tr>\n",
              "    <tr>\n",
              "      <th>C1649516399</th>\n",
              "      <td>5</td>\n",
              "      <td>0</td>\n",
              "    </tr>\n",
              "    <tr>\n",
              "      <th>C999999956</th>\n",
              "      <td>2</td>\n",
              "      <td>0</td>\n",
              "    </tr>\n",
              "  </tbody>\n",
              "</table>\n",
              "<p>509565 rows × 2 columns</p>\n",
              "</div>"
            ],
            "text/plain": [
              "             nameDest  isFraud\n",
              "nameDest                      \n",
              "C967226405         12        2\n",
              "C1325541393        19        2\n",
              "C650699445          8        2\n",
              "C686334805          2        2\n",
              "C964377943          4        2\n",
              "...               ...      ...\n",
              "C1649522050         3        0\n",
              "C1649521180         6        0\n",
              "C1649517881         6        0\n",
              "C1649516399         5        0\n",
              "C999999956          2        0\n",
              "\n",
              "[509565 rows x 2 columns]"
            ]
          },
          "execution_count": 14,
          "metadata": {},
          "output_type": "execute_result"
        }
      ],
      "source": [
        "# curious about the number of transactions per account and number of fraud\n",
        "# could be useful to create a feature indicating the number of prior payments received\n",
        "cash_out_transfer_transactions.groupby('nameDest').agg({'nameDest': 'count', 'isFraud':'sum'}).sort_values(by='isFraud', ascending=False)"
      ]
    },
    {
      "cell_type": "code",
      "execution_count": null,
      "metadata": {
        "colab": {
          "base_uri": "https://localhost:8080/",
          "height": 142
        },
        "id": "pq_JK4X7Z9sN",
        "outputId": "02200210-07ac-4ee8-9c73-1b3a52f7da35"
      },
      "outputs": [
        {
          "data": {
            "text/html": [
              "<div>\n",
              "<style scoped>\n",
              "    .dataframe tbody tr th:only-of-type {\n",
              "        vertical-align: middle;\n",
              "    }\n",
              "\n",
              "    .dataframe tbody tr th {\n",
              "        vertical-align: top;\n",
              "    }\n",
              "\n",
              "    .dataframe thead th {\n",
              "        text-align: right;\n",
              "    }\n",
              "</style>\n",
              "<table border=\"1\" class=\"dataframe\">\n",
              "  <thead>\n",
              "    <tr style=\"text-align: right;\">\n",
              "      <th>isFraud</th>\n",
              "      <th>0</th>\n",
              "      <th>1</th>\n",
              "    </tr>\n",
              "    <tr>\n",
              "      <th>type</th>\n",
              "      <th></th>\n",
              "      <th></th>\n",
              "    </tr>\n",
              "  </thead>\n",
              "  <tbody>\n",
              "    <tr>\n",
              "      <th>CASH_OUT</th>\n",
              "      <td>2233384</td>\n",
              "      <td>4116</td>\n",
              "    </tr>\n",
              "    <tr>\n",
              "      <th>TRANSFER</th>\n",
              "      <td>528812</td>\n",
              "      <td>4097</td>\n",
              "    </tr>\n",
              "  </tbody>\n",
              "</table>\n",
              "</div>"
            ],
            "text/plain": [
              "isFraud         0     1\n",
              "type                   \n",
              "CASH_OUT  2233384  4116\n",
              "TRANSFER   528812  4097"
            ]
          },
          "execution_count": 15,
          "metadata": {},
          "output_type": "execute_result"
        }
      ],
      "source": [
        "# cross tabulating the type of transaction with fraud and counting the occurrence of fraud\n",
        "pd.crosstab(cash_out_transfer_transactions['type'], cash_out_transfer_transactions['isFraud'])"
      ]
    },
    {
      "cell_type": "markdown",
      "metadata": {
        "id": "ly9MsU5AZ9sN"
      },
      "source": [
        "It looks like fraud it *pretty much* evenly spread out between type of transactions.\n",
        "\n",
        "Next, I'm interested in getting a sense of the average transaction value between fraudulent and non fraudulent transactions as well as various other columns in the data.\n",
        "\n",
        "I'm not performing any real rigorous statistical tests here.\n",
        "\n",
        "If that's something you're interested in doing, you can look into conducting two-sample t-tests (or z-tests). You can learn more about doing that in [this informative blog post](https://www.reneshbedre.com/blog/ttest.html)."
      ]
    },
    {
      "cell_type": "code",
      "execution_count": null,
      "metadata": {
        "id": "_eUIXVTZZ9sN"
      },
      "outputs": [],
      "source": [
        "# You can create any functions you'd like to explore the data, and it will all be logged to the Comet experiment!\n",
        "# That way you can keep track of your code, and your team mates can see how you explored the data by examining your code.\n",
        "\n",
        "def avg_col_value_by_fraud_vs_nonfraud(col: str) -> pd.Series:\n",
        "    \"\"\"\n",
        "    This function computes the average value of a column \n",
        "    for fraudulent vs non-fraudulent transactions\n",
        "\n",
        "    Args:\n",
        "        col (str): The column you want to compute the\n",
        "                   average value for. \n",
        "\n",
        "    Returns:\n",
        "        pd.Series: pandas Series. 0 = non-fraudulent transaction, 1 = fraudulent transaction\n",
        "    \"\"\"\n",
        "\n",
        "    print(f\"Average value of {col} for non-fraudulent vs fraudulent transactions\")\n",
        "    return cash_out_transfer_transactions.groupby('isFraud')[col].mean()"
      ]
    },
    {
      "cell_type": "code",
      "execution_count": null,
      "metadata": {
        "colab": {
          "base_uri": "https://localhost:8080/"
        },
        "id": "aj0Z3v_sZ9sN",
        "outputId": "c89fa45e-b25c-48fe-8f9a-37ebd45c9253"
      },
      "outputs": [
        {
          "name": "stdout",
          "output_type": "stream",
          "text": [
            "Average value of amount for non-fraudulent vs fraudulent transactions\n"
          ]
        },
        {
          "data": {
            "text/plain": [
              "isFraud\n",
              "0    3.141155e+05\n",
              "1    1.467967e+06\n",
              "Name: amount, dtype: float64"
            ]
          },
          "execution_count": 17,
          "metadata": {},
          "output_type": "execute_result"
        }
      ],
      "source": [
        "avg_amount_fraud_v_non_fraud = avg_col_value_by_fraud_vs_nonfraud('amount')\n",
        "avg_amount_fraud_v_non_fraud"
      ]
    },
    {
      "cell_type": "markdown",
      "metadata": {
        "id": "BuPQq3FUZ9sO"
      },
      "source": [
        "Those are some large numbers, and aren't that intuitive to understand just by looking at the values.\n",
        "\n",
        "Maybe a visualization will help here?\n",
        "\n"
      ]
    },
    {
      "cell_type": "code",
      "execution_count": null,
      "metadata": {
        "colab": {
          "base_uri": "https://localhost:8080/",
          "height": 290
        },
        "id": "GZWN_-r_Z9sO",
        "outputId": "68059ef7-0f12-41ba-e86d-a4c34393d173"
      },
      "outputs": [
        {
          "data": {
            "image/png": "[encoded data removed]",
            "text/plain": [
              "<Figure size 432x288 with 1 Axes>"
            ]
          },
          "metadata": {
            "needs_background": "light"
          },
          "output_type": "display_data"
        }
      ],
      "source": [
        "sns.barplot(x = avg_amount_fraud_v_non_fraud.index, y = avg_amount_fraud_v_non_fraud.values)\n",
        "plt.savefig(\"avg_amount_fraud_v_non_fraud.png\")"
      ]
    },
    {
      "cell_type": "markdown",
      "metadata": {
        "id": "7gkJtbNMZ9sO"
      },
      "source": [
        "What's nice is that with Comet you can actually save this plot right to your experiment!\n",
        "\n",
        "All you have to do is call `log_image()` on your experiment object - let's take a look at how we do that."
      ]
    },
    {
      "cell_type": "code",
      "execution_count": null,
      "metadata": {
        "colab": {
          "base_uri": "https://localhost:8080/"
        },
        "id": "vKy6bfDtZ9sO",
        "outputId": "5b61503e-9f2c-4421-c2b3-5c4b20c649eb"
      },
      "outputs": [
        {
          "data": {
            "text/plain": [
              "{'api': 'https://www.comet.ml/api/rest/v1/image/get-image?imageId=09a93d5e1eeb4390a2edb5bc5fe77543&experimentKey=16335cea54824c4894e7c166b601fb99',\n",
              " 'imageId': '09a93d5e1eeb4390a2edb5bc5fe77543',\n",
              " 'web': 'https://www.comet.ml/api/image/download?imageId=09a93d5e1eeb4390a2edb5bc5fe77543&experimentKey=16335cea54824c4894e7c166b601fb99'}"
            ]
          },
          "execution_count": 19,
          "metadata": {},
          "output_type": "execute_result"
        }
      ],
      "source": [
        "experiment.log_image('avg_amount_fraud_v_non_fraud.png')"
      ]
    },
    {
      "cell_type": "markdown",
      "metadata": {
        "id": "Ea8bXqZhZ9sO"
      },
      "source": [
        "It's now saved as part of this experiment!\n",
        "\n",
        "When you go your experiment url, on the left side of the screen you'll see a tab for graphics - this is where your image is saved!"
      ]
    },
    {
      "cell_type": "code",
      "execution_count": null,
      "metadata": {
        "id": "nO0uj635Z9sO",
        "outputId": "8288bb55-cd51-4adc-a5b9-24ae07d2085c"
      },
      "outputs": [
        {
          "name": "stdout",
          "output_type": "stream",
          "text": [
            "Average value of oldbalanceDest for non-fraudulent vs fraudulent transactions\n",
            "Average value of oldbalanceOrg for non-fraudulent vs fraudulent transactions\n",
            "Average value of newbalanceOrig for non-fraudulent vs fraudulent transactions\n",
            "Average value of newbalanceDest for non-fraudulent vs fraudulent transactions\n"
          ]
        },
        {
          "data": {
            "text/plain": [
              "isFraud\n",
              "0    2.052024e+06\n",
              "1    1.279708e+06\n",
              "Name: newbalanceDest, dtype: float64"
            ]
          },
          "execution_count": 15,
          "metadata": {},
          "output_type": "execute_result"
        }
      ],
      "source": [
        "# If you're interested you can run these functions, plot the resulting series, and save them to your own experiment\n",
        "\n",
        "avg_col_value_by_fraud_vs_nonfraud('oldbalanceDest')\n",
        "avg_col_value_by_fraud_vs_nonfraud('oldbalanceOrg')\n",
        "avg_col_value_by_fraud_vs_nonfraud('newbalanceOrig')\n",
        "avg_col_value_by_fraud_vs_nonfraud('newbalanceDest')"
      ]
    },
    {
      "cell_type": "markdown",
      "metadata": {
        "id": "y8qjk2opZ9sP"
      },
      "source": [
        "Taking what you learn from this exploratory analysis you can create a number of features to enrich your data.\n",
        "\n",
        "I encourage you to try to come up with some creative features on your own. \n",
        "\n",
        "The cool part is that you can log the resulting dataset to Comet as an artifact. That way you can keep track of the the lineage of the data as it goes from it's raw state to a state that is ready for modeling.\n",
        "\n",
        "For now, what we will do is create the following:\n",
        "\n",
        " - One dataset which contains summary level information for each ID in `nameDest`. We will then log this to Comet as an artifact. \n",
        " - One dataset with the transactional data that will be used in the modeling process\n",
        " - One dataset which merges these two dataset\n",
        "\n",
        "This way we have a clean lineage from raw data to the various data models we will use for modeling. \n"
      ]
    },
    {
      "cell_type": "code",
      "execution_count": null,
      "metadata": {
        "id": "hTwcb5-fZ9sP"
      },
      "outputs": [],
      "source": [
        "namedest_summary = cash_out_transfer_transactions.groupby('nameDest').agg(avg_transaction_amount = ('amount','mean'),\n",
        "                                                        n_transactions = ('step','count'),\n",
        "                                                        avg_old_bal_org = ('oldbalanceOrg','mean'),\n",
        "                                                        avg_old_bal_dest = ('oldbalanceDest','mean'),\n",
        "                                                        avg_new_bal_dest = ('newbalanceDest','mean'),\n",
        "                                                        avg_new_bal_org = ('newbalanceDest','mean')\n",
        "                                                        ).reset_index()\n",
        "\n",
        "cash_out_transfer_transactions = cash_out_transfer_transactions.drop(columns=['isFlaggedFraud', 'OrigToDes', 'type', 'nameOrig'])\n",
        "\n",
        "full_data = cash_out_transfer_transactions.merge(namedest_summary, on='nameDest')"
      ]
    },
    {
      "cell_type": "code",
      "execution_count": null,
      "metadata": {
        "colab": {
          "base_uri": "https://localhost:8080/"
        },
        "id": "ytC3x9pwZ9sP",
        "outputId": "fcb31822-5642-4935-ebae-fd5d797d68e1"
      },
      "outputs": [
        {
          "name": "stderr",
          "output_type": "stream",
          "text": [
            "COMET WARNING: As you are running in a Jupyter environment, you will need to call `experiment.end()` when finished to ensure all metrics and code are logged before exiting.\n",
            "COMET INFO: Couldn't find a Git repository in '/content' and lookings in parents. You can override where Comet is looking for a Git Patch by setting the configuration `COMET_GIT_DIRECTORY`\n",
            "COMET INFO: Experiment is live on comet.ml https://www.comet.ml/team-comet-ml/fraud-detection-demo/1510c2ccb17743fc8d94a9781a27f767\n",
            "\n",
            "COMET INFO: Artifact 'namedest_summary' version 1.0.0 created\n",
            "COMET INFO: Scheduling the upload of 1 assets for a size of 16.60 MB, this can take some time\n",
            "COMET INFO: Artifact 'team-comet-ml/namedest_summary:1.0.0' has started uploading asynchronously\n",
            "COMET INFO: ---------------------------\n",
            "COMET INFO: Comet.ml Experiment Summary\n",
            "COMET INFO: ---------------------------\n",
            "COMET INFO:   Data:\n",
            "COMET INFO:     display_summary_level : 1\n",
            "COMET INFO:     url                   : https://www.comet.ml/team-comet-ml/fraud-detection-demo/1510c2ccb17743fc8d94a9781a27f767\n",
            "COMET INFO:   Others:\n",
            "COMET INFO:     Name : log_artifact_namedest_summary\n",
            "COMET INFO:   Uploads:\n",
            "COMET INFO:     artifact assets     : 1 (16.60 MB)\n",
            "COMET INFO:     artifacts           : 1\n",
            "COMET INFO:     environment details : 1\n",
            "COMET INFO:     filename            : 1\n",
            "COMET INFO:     installed packages  : 1\n",
            "COMET INFO:     notebook            : 1\n",
            "COMET INFO:     os packages         : 1\n",
            "COMET INFO:     source_code         : 1\n",
            "COMET INFO: ---------------------------\n",
            "COMET INFO: Uploading 1 metrics, params and output messages\n",
            "COMET INFO: Waiting for completion of the file uploads (may take several seconds)\n",
            "COMET INFO: The Python SDK has 10800 seconds to finish before aborting...\n",
            "COMET INFO: All files uploaded, waiting for confirmation they have been all received\n",
            "COMET INFO: Artifact 'team-comet-ml/namedest_summary:1.0.0' has been fully uploaded successfully\n",
            "COMET WARNING: As you are running in a Jupyter environment, you will need to call `experiment.end()` when finished to ensure all metrics and code are logged before exiting.\n",
            "COMET INFO: Couldn't find a Git repository in '/content' and lookings in parents. You can override where Comet is looking for a Git Patch by setting the configuration `COMET_GIT_DIRECTORY`\n",
            "COMET INFO: Experiment is live on comet.ml https://www.comet.ml/team-comet-ml/fraud-detection-demo/b0be780d260249ce8b67c0d5e166047e\n",
            "\n",
            "COMET INFO: Artifact 'cash_out_transfer_transactions' version 1.0.0 created\n",
            "COMET INFO: Scheduling the upload of 1 assets for a size of 63.70 MB, this can take some time\n",
            "COMET INFO: Artifact 'team-comet-ml/cash_out_transfer_transactions:1.0.0' has started uploading asynchronously\n",
            "COMET INFO: ---------------------------\n",
            "COMET INFO: Comet.ml Experiment Summary\n",
            "COMET INFO: ---------------------------\n",
            "COMET INFO:   Data:\n",
            "COMET INFO:     display_summary_level : 1\n",
            "COMET INFO:     url                   : https://www.comet.ml/team-comet-ml/fraud-detection-demo/b0be780d260249ce8b67c0d5e166047e\n",
            "COMET INFO:   Others:\n",
            "COMET INFO:     Name : log_artifact_cash_out_transfer_transactions\n",
            "COMET INFO:   Uploads:\n",
            "COMET INFO:     artifact assets     : 1 (63.70 MB)\n",
            "COMET INFO:     artifacts           : 1\n",
            "COMET INFO:     environment details : 1\n",
            "COMET INFO:     filename            : 1\n",
            "COMET INFO:     installed packages  : 1\n",
            "COMET INFO:     notebook            : 1\n",
            "COMET INFO:     os packages         : 1\n",
            "COMET INFO:     source_code         : 1\n",
            "COMET INFO: ---------------------------\n",
            "COMET INFO: Uploading 1 metrics, params and output messages\n",
            "COMET INFO: Waiting for completion of the file uploads (may take several seconds)\n",
            "COMET INFO: The Python SDK has 10800 seconds to finish before aborting...\n",
            "COMET INFO: Still uploading 1 file(s), remaining 63.70 MB/63.73 MB\n",
            "COMET INFO: Artifact 'team-comet-ml/cash_out_transfer_transactions:1.0.0' has been fully uploaded successfully\n",
            "COMET WARNING: As you are running in a Jupyter environment, you will need to call `experiment.end()` when finished to ensure all metrics and code are logged before exiting.\n",
            "COMET INFO: Couldn't find a Git repository in '/content' and lookings in parents. You can override where Comet is looking for a Git Patch by setting the configuration `COMET_GIT_DIRECTORY`\n",
            "COMET INFO: Experiment is live on comet.ml https://www.comet.ml/team-comet-ml/fraud-detection-demo/522fca5b1be74eb5af523239be0d5a7e\n",
            "\n",
            "COMET INFO: Artifact 'full_data_model' version 1.0.0 created\n",
            "COMET INFO: Scheduling the upload of 1 assets for a size of 75.17 MB, this can take some time\n",
            "COMET INFO: Artifact 'team-comet-ml/full_data_model:1.0.0' has started uploading asynchronously\n",
            "COMET INFO: ---------------------------\n",
            "COMET INFO: Comet.ml Experiment Summary\n",
            "COMET INFO: ---------------------------\n",
            "COMET INFO:   Data:\n",
            "COMET INFO:     display_summary_level : 1\n",
            "COMET INFO:     url                   : https://www.comet.ml/team-comet-ml/fraud-detection-demo/522fca5b1be74eb5af523239be0d5a7e\n",
            "COMET INFO:   Others:\n",
            "COMET INFO:     Name : log_artifact_full_data_model\n",
            "COMET INFO:   Uploads:\n",
            "COMET INFO:     artifact assets     : 1 (75.17 MB)\n",
            "COMET INFO:     artifacts           : 1\n",
            "COMET INFO:     environment details : 1\n",
            "COMET INFO:     filename            : 1\n",
            "COMET INFO:     installed packages  : 1\n",
            "COMET INFO:     notebook            : 1\n",
            "COMET INFO:     os packages         : 1\n",
            "COMET INFO:     source_code         : 1\n",
            "COMET INFO: ---------------------------\n",
            "COMET INFO: Uploading 1 metrics, params and output messages\n",
            "COMET INFO: Waiting for completion of the file uploads (may take several seconds)\n",
            "COMET INFO: The Python SDK has 10800 seconds to finish before aborting...\n",
            "COMET INFO: Still uploading 1 file(s), remaining 63.55 MB/75.20 MB\n",
            "COMET INFO: Artifact 'team-comet-ml/full_data_model:1.0.0' has been fully uploaded successfully\n"
          ]
        }
      ],
      "source": [
        "datas = [(namedest_summary, 'namedest_summary'), (cash_out_transfer_transactions, 'cash_out_transfer_transactions'), (full_data, 'full_data_model')] \n",
        "\n",
        "data_artifacts = {\n",
        "    'namedest_summary':{'df':'namedest_summary.parquet.gzip',\n",
        "               'type':'data-model',\n",
        "               'alias':['summary-features'],\n",
        "               'metadata':{'filetype':'parquet', 'notes':'This data is set contains summary stats grouped by nameDest, only for those transactions\\\n",
        "                              which were either CASH_OUT or TRANSFER'}\n",
        "    },\n",
        "    'cash_out_transfer_transactions':{'df':'cash_out_transfer_transactions.parquet.gzip',\n",
        "               'type':'data-model',\n",
        "               'alias':['cashout-transfer-only'],\n",
        "               'metadata':{'filetype':'parquet', 'notes':'This data is set contains only those transactions\\\n",
        "                              which were either CASH_OUT or TRANSFER. These are the examples we train with.'}\n",
        "    },\n",
        "    'full_data_model':{'df':'full_data_model.parquet.gzip',\n",
        "               'type':'data-model',\n",
        "               'alias':['full-data-model'],\n",
        "               'metadata':{'filetype':'parquet', 'notes':'This is the full data model which is a merged dataset of the transactions and nameDest summary'}\n",
        "    }\n",
        "}\n",
        "\n",
        "def compress_df(df, filename):\n",
        "    \"\"\"Compress dataframe to a parquet file\n",
        "\n",
        "    Args:\n",
        "        df (pd.DataFrame): pandas DataFrame to be compresses\n",
        "        filename (str): prefix of the filenames, which will have `.parquet.gzip` \n",
        "                        appended to the end of it.\n",
        "    \"\"\"\n",
        "    df.to_parquet(filename + '.parquet.gzip', compression='gzip')\n",
        "\n",
        "\n",
        "def artifact_logger(artifact_dict:dict, key: dict, ws:str ,exp_name:str, exp_tag:str):\n",
        "    \"\"\"Log the artifact to Comet\n",
        "\n",
        "    Args:\n",
        "        artifact_dict (dict): dictionary containing metadata for artifact\n",
        "        ws(str): Workspace name\n",
        "        key (str): The key from which to grab dictionary items\n",
        "        exp_name (str): Name of the experiment on Comet\n",
        "        exp_tag (str) : Experiment tag \n",
        "        \n",
        "    \"\"\"\n",
        "    experiment = Experiment(workspace=ws,project_name=exp_name)\n",
        "    experiment.add_tag(exp_tag)\n",
        "    experiment.set_name('log_artifact_' + key)\n",
        "    artifact = Artifact(name = key,\n",
        "                        artifact_type = artifact_dict[key]['type'],\n",
        "                        aliases = artifact_dict[key]['alias'],\n",
        "                        metadata = artifact_dict[key]['metadata']\n",
        "                    )\n",
        "    artifact.add(artifact_dict[key]['df'])\n",
        "    experiment.log_artifact(artifact)\n",
        "    experiment.end()\n",
        "\n",
        "\n",
        "# Save training and testing sets to disk as parquet files\n",
        "for df, filename in datas:\n",
        "    compress_df(df, filename)\n",
        "\n",
        "\n",
        "# Log training and testing sets to Comet as artifacts\n",
        "for key in data_artifacts:\n",
        "    artifact_logger(data_artifacts,key, ws='team-comet-ml', exp_name='fraud-detection-demo', exp_tag=\"data-models\")\n"
      ]
    }
  ],
  "metadata": {
    "colab": {
      "provenance": []
    },
    "kernelspec": {
      "display_name": "Python 3",
      "language": "python",
      "name": "python3"
    },
    "language_info": {
      "codemirror_mode": {
        "name": "ipython",
        "version": 3
      },
      "file_extension": ".py",
      "mimetype": "text/x-python",
      "name": "python",
      "nbconvert_exporter": "python",
      "pygments_lexer": "ipython3",
      "version": "3.11.1 (v3.11.1:a7a450f84a, Dec  6 2022, 15:24:06) [Clang 13.0.0 (clang-1300.0.29.30)]"
    },
    "orig_nbformat": 4,
    "vscode": {
      "interpreter": {
        "hash": "aee8b7b246df8f9039afb4144a1f6fd8d2ca17a180786b69acc140d282b71a49"
      }
    }
  },
  "nbformat": 4,
  "nbformat_minor": 0
}
