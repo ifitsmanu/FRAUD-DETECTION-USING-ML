{
  "cells": [
    {
      "cell_type": "code",
      "execution_count": null,
      "metadata": {
        "colab": {
          "base_uri": "https://localhost:8080/"
        },
        "id": "OjRBqV6EcyW2",
        "outputId": "1b1e76d7-5023-4d7f-8adb-3cbe9cf12c51"
      },
      "outputs": [
        {
          "name": "stdout",
          "output_type": "stream",
          "text": [
            "\u001b[K     |████████████████████████████████| 299 kB 7.3 MB/s \n",
            "\u001b[K     |████████████████████████████████| 546 kB 53.1 MB/s \n",
            "\u001b[K     |████████████████████████████████| 52 kB 1.8 MB/s \n",
            "\u001b[K     |████████████████████████████████| 54 kB 3.3 MB/s \n",
            "\u001b[?25h  Building wheel for configobj (setup.py) ... \u001b[?25l\u001b[?25hdone\n"
          ]
        }
      ],
      "source": [
        "!pip install comet_ml --quiet"
      ]
    },
    {
      "cell_type": "code",
      "execution_count": null,
      "metadata": {
        "colab": {
          "base_uri": "https://localhost:8080/"
        },
        "id": "nqqPzI8KZ4pi",
        "outputId": "a767be8d-7571-48f4-ba44-d90d11acdfd4"
      },
      "outputs": [
        {
          "name": "stdout",
          "output_type": "stream",
          "text": [
            "Please enter your Comet API key from https://www.comet.ml/api/my/settings/\n",
            "(api key may not show as you type)\n",
            "Comet API key: ··········\n"
          ]
        },
        {
          "name": "stderr",
          "output_type": "stream",
          "text": [
            "COMET INFO: Comet API key is valid\n",
            "COMET INFO: Comet API key saved in /root/.comet.config\n"
          ]
        }
      ],
      "source": [
        "import pandas as pd \n",
        "import numpy as np\n",
        "import comet_ml\n",
        "from comet_ml import Experiment, Artifact, Optimizer, API\n",
        "import warnings\n",
        "from sklearn.exceptions import DataConversionWarning, ConvergenceWarning\n",
        "warnings.filterwarnings(action='ignore', category=DataConversionWarning)\n",
        "warnings.filterwarnings(action='ignore', category=ConvergenceWarning)\n",
        "from sklearn.metrics import fbeta_score, average_precision_score, auc\n",
        "from sklearn.model_selection import StratifiedKFold, cross_validate\n",
        "from sklearn.pipeline import Pipeline\n",
        "from sklearn.preprocessing import StandardScaler\n",
        "from sklearn.experimental import enable_hist_gradient_boosting  \n",
        "from sklearn.ensemble import HistGradientBoostingClassifier\n",
        "comet_ml.init()"
      ]
    },
    {
      "cell_type": "code",
      "execution_count": null,
      "metadata": {
        "colab": {
          "base_uri": "https://localhost:8080/"
        },
        "id": "dSrsWhWaZ4pl",
        "outputId": "26b4771b-19f0-452a-ff53-82dd06148ec9"
      },
      "outputs": [
        {
          "name": "stderr",
          "output_type": "stream",
          "text": [
            "COMET WARNING: As you are running in a Jupyter environment, you will need to call `experiment.end()` when finished to ensure all metrics and code are logged before exiting.\n",
            "COMET INFO: Couldn't find a Git repository in '/content' and lookings in parents. You can override where Comet is looking for a Git Patch by setting the configuration `COMET_GIT_DIRECTORY`\n",
            "COMET INFO: Experiment is live on comet.ml https://www.comet.ml/team-comet-ml/fraud-detection-demo/2dfc537a71f541ac9bd7baefa18ca9af\n",
            "\n",
            "COMET INFO: Artifact 'team-comet-ml/X_train_smt:1.0.0' download has been started asynchronously\n",
            "COMET INFO: Still downloading 1 file(s), remaining 138.10 MB/138.10 MB\n",
            "COMET INFO: Artifact 'team-comet-ml/X_train_smt:1.0.0' has been successfully downloaded\n",
            "COMET INFO: ---------------------------\n",
            "COMET INFO: Comet.ml Experiment Summary\n",
            "COMET INFO: ---------------------------\n",
            "COMET INFO:   Data:\n",
            "COMET INFO:     display_summary_level : 1\n",
            "COMET INFO:     url                   : https://www.comet.ml/team-comet-ml/fraud-detection-demo/2dfc537a71f541ac9bd7baefa18ca9af\n",
            "COMET INFO:   Downloads:\n",
            "COMET INFO:     artifact assets : 1 (138.10 MB)\n",
            "COMET INFO:     artifacts       : 1\n",
            "COMET INFO:   Uploads:\n",
            "COMET INFO:     environment details : 1\n",
            "COMET INFO:     filename            : 1\n",
            "COMET INFO:     installed packages  : 1\n",
            "COMET INFO:     notebook            : 1\n",
            "COMET INFO:     os packages         : 1\n",
            "COMET INFO:     source_code         : 1\n",
            "COMET INFO: ---------------------------\n",
            "COMET INFO: Uploading metrics, params, and assets to Comet before program termination (may take several seconds)\n",
            "COMET INFO: The Python SDK has 3600 seconds to finish before aborting...\n",
            "COMET WARNING: As you are running in a Jupyter environment, you will need to call `experiment.end()` when finished to ensure all metrics and code are logged before exiting.\n",
            "COMET INFO: Couldn't find a Git repository in '/content' and lookings in parents. You can override where Comet is looking for a Git Patch by setting the configuration `COMET_GIT_DIRECTORY`\n",
            "COMET INFO: Experiment is live on comet.ml https://www.comet.ml/team-comet-ml/fraud-detection-demo/363c455fca5c4b43a0adfad9de6bb39a\n",
            "\n",
            "COMET INFO: Artifact 'team-comet-ml/y_train_smt:1.0.0' download has been started asynchronously\n",
            "COMET INFO: Still downloading 1 file(s), remaining 13.53 KB/13.53 KB\n",
            "COMET INFO: Artifact 'team-comet-ml/y_train_smt:1.0.0' has been successfully downloaded\n",
            "COMET INFO: ---------------------------\n",
            "COMET INFO: Comet.ml Experiment Summary\n",
            "COMET INFO: ---------------------------\n",
            "COMET INFO:   Data:\n",
            "COMET INFO:     display_summary_level : 1\n",
            "COMET INFO:     url                   : https://www.comet.ml/team-comet-ml/fraud-detection-demo/363c455fca5c4b43a0adfad9de6bb39a\n",
            "COMET INFO:   Downloads:\n",
            "COMET INFO:     artifact assets : 1 (13.53 KB)\n",
            "COMET INFO:     artifacts       : 1\n",
            "COMET INFO:   Uploads:\n",
            "COMET INFO:     environment details : 1\n",
            "COMET INFO:     filename            : 1\n",
            "COMET INFO:     installed packages  : 1\n",
            "COMET INFO:     notebook            : 1\n",
            "COMET INFO:     os packages         : 1\n",
            "COMET INFO:     source_code         : 1\n",
            "COMET INFO: ---------------------------\n",
            "COMET INFO: Uploading 1 metrics, params and output messages\n",
            "COMET WARNING: As you are running in a Jupyter environment, you will need to call `experiment.end()` when finished to ensure all metrics and code are logged before exiting.\n",
            "COMET INFO: Couldn't find a Git repository in '/content' and lookings in parents. You can override where Comet is looking for a Git Patch by setting the configuration `COMET_GIT_DIRECTORY`\n",
            "COMET INFO: Experiment is live on comet.ml https://www.comet.ml/team-comet-ml/fraud-detection-demo/56ae92be5d0843f0a7a548f95a88b47c\n",
            "\n",
            "COMET INFO: Artifact 'team-comet-ml/X_test:3.0.0' download has been started asynchronously\n",
            "COMET INFO: Still downloading 1 file(s), remaining 36.75 MB/36.75 MB\n",
            "COMET INFO: Artifact 'team-comet-ml/X_test:3.0.0' has been successfully downloaded\n",
            "COMET INFO: ---------------------------\n",
            "COMET INFO: Comet.ml Experiment Summary\n",
            "COMET INFO: ---------------------------\n",
            "COMET INFO:   Data:\n",
            "COMET INFO:     display_summary_level : 1\n",
            "COMET INFO:     url                   : https://www.comet.ml/team-comet-ml/fraud-detection-demo/56ae92be5d0843f0a7a548f95a88b47c\n",
            "COMET INFO:   Downloads:\n",
            "COMET INFO:     artifact assets : 1 (36.75 MB)\n",
            "COMET INFO:     artifacts       : 1\n",
            "COMET INFO:   Uploads:\n",
            "COMET INFO:     environment details : 1\n",
            "COMET INFO:     filename            : 1\n",
            "COMET INFO:     installed packages  : 1\n",
            "COMET INFO:     notebook            : 1\n",
            "COMET INFO:     os packages         : 1\n",
            "COMET INFO:     source_code         : 1\n",
            "COMET INFO: ---------------------------\n",
            "COMET INFO: Uploading 1 metrics, params and output messages\n",
            "COMET WARNING: As you are running in a Jupyter environment, you will need to call `experiment.end()` when finished to ensure all metrics and code are logged before exiting.\n",
            "COMET INFO: Couldn't find a Git repository in '/content' and lookings in parents. You can override where Comet is looking for a Git Patch by setting the configuration `COMET_GIT_DIRECTORY`\n",
            "COMET INFO: Experiment is live on comet.ml https://www.comet.ml/team-comet-ml/fraud-detection-demo/fffa1b042b1e4a49879c0a4d4180cd15\n",
            "\n",
            "COMET INFO: Artifact 'team-comet-ml/y_test:3.0.0' download has been started asynchronously\n",
            "COMET INFO: Still downloading 1 file(s), remaining 2.67 MB/2.67 MB\n",
            "COMET INFO: Artifact 'team-comet-ml/y_test:3.0.0' has been successfully downloaded\n",
            "COMET INFO: ---------------------------\n",
            "COMET INFO: Comet.ml Experiment Summary\n",
            "COMET INFO: ---------------------------\n",
            "COMET INFO:   Data:\n",
            "COMET INFO:     display_summary_level : 1\n",
            "COMET INFO:     url                   : https://www.comet.ml/team-comet-ml/fraud-detection-demo/fffa1b042b1e4a49879c0a4d4180cd15\n",
            "COMET INFO:   Downloads:\n",
            "COMET INFO:     artifact assets : 1 (2.67 MB)\n",
            "COMET INFO:     artifacts       : 1\n",
            "COMET INFO:   Uploads:\n",
            "COMET INFO:     environment details : 1\n",
            "COMET INFO:     filename            : 1\n",
            "COMET INFO:     installed packages  : 1\n",
            "COMET INFO:     notebook            : 1\n",
            "COMET INFO:     os packages         : 1\n",
            "COMET INFO:     source_code         : 1\n",
            "COMET INFO: ---------------------------\n",
            "COMET INFO: Uploading 1 metrics, params and output messages\n"
          ]
        }
      ],
      "source": [
        "artifact_list = ['X_train_smt', 'y_train_smt', 'X_test', 'y_test']\n",
        "\n",
        "def fetch_artifact(artifact_name, ws, exp_name):\n",
        "    experiment= Experiment(workspace=ws, project_name=exp_name)\n",
        "    artifact = experiment.get_artifact(artifact_name)\n",
        "    artifact.download(path = './')\n",
        "    experiment.end()\n",
        "\n",
        "for artifact in artifact_list:\n",
        "    fetch_artifact(artifact_name= artifact, ws='team-comet-ml', exp_name=\"fraud-detection-demo\")"
      ]
    },
    {
      "cell_type": "code",
      "execution_count": null,
      "metadata": {
        "id": "qFsugfKnZ4pl"
      },
      "outputs": [],
      "source": [
        "X_train_smt = pd.read_parquet('X_train_smt.parquet.gzip')\n",
        "y_train_smt = pd.read_parquet('y_train_smt.parquet.gzip')\n",
        "X_test = pd.read_parquet('X_test.parquet.gzip')\n",
        "y_test = pd.read_parquet('y_test.parquet.gzip')"
      ]
    },
    {
      "cell_type": "markdown",
      "metadata": {
        "id": "CIgfnzBUZ4pm"
      },
      "source": [
        "# Hyperparameter Optimization Strategy\n",
        "\n",
        "We'll use the Bayes algorithm for optimizing our hyperparameters.\n",
        "\n",
        "Bayesian Optimization is a hyperparameter search technique based on Bayes Theorem, which is efficient and effective. The algorithm builds a probabilistic model of the objective function - aka the surrogate function - and then uses that to select the most promising hyperparameters to evaluate in the true objective function. If you love math, details, and nitty gritty then [this article may be for you](https://towardsdatascience.com/a-conceptual-explanation-of-bayesian-model-based-hyperparameter-optimization-for-machine-learning-b8172278050f).\n",
        "\n",
        "\n",
        "The Bayes algorithim may be the best choice for most uses of the Comet Optimizer.  It provides a well-tested algorithm that balances exploring unknown space, with exploiting the best known so far. The Comet Bayes algorithm implements the adaptive Parzen-Rosenblatt estimator.\n",
        "\n",
        "We start off by creating the configuration for the Comet Optimizier and selecting some range of values for our hyperparameters to tune.\n",
        "\n",
        "For this tutorial, we're only going to tune the following hyperparamaters:\n",
        "\n",
        "- `learning_rate`\n",
        "- `max_leaf_nodes`\n",
        "- `max_depth`\n",
        "- `min_samples_leaf`\n",
        "- `l2_regularization`\n",
        "\n",
        "\n",
        "You can learn more about the different hyperparameters for `HistGradientBoostingClassifier` by visiting the [scikit-learn documentation](https://scikit-learn.org/stable/modules/generated/sklearn.ensemble.HistGradientBoostingClassifier.html#sklearn.ensemble.HistGradientBoostingClassifier). I encourage you to try other hyperparameters for tuning, adjusting the values, or even using an [iterative approach with randomized search](https://www.comet.ml/team-comet-ml/parameter-optimizations/reports/advanced-ml-parameter-optimization).\n",
        "\n",
        "Be sure to [swing by our community Slack channel](https://bit.ly/comet-community) to show off your work, ask questions, or suggest some new features you'd like to see in the product.\n",
        "\n",
        "We won't discuss the choice of initial hyperparameters in this notebook, but we will have an in-depth series on in the very near future. Keep an eye out for that!\n",
        "\n",
        "In the meantime, I encourage you to try out different hyperparameter values. \n",
        "\n",
        "In addition the the Bayes algorithm, the Comet Optimizer also supports the Random Search and Grid Search algorithms. Learn more about that [here](https://www.comet.ml/docs/python-sdk/introduction-optimizer/).\n",
        "\n",
        "I encourage you to experiment with the different optimizers and different hyperparameter values, see if you can beat the results we get here.\n",
        "\n",
        "If you have questions or want to showcase your results, feel free to swing by our community [Slack channel](http://bit.ly/comet-community)."
      ]
    },
    {
      "cell_type": "markdown",
      "metadata": {
        "id": "Y2aY8TTtX1az"
      },
      "source": [
        "# Step 1 - Optimizer Configuration¶\n",
        "\n",
        "We'll create an Optimizer configuration dictionary - which can either specified in code, or in a config file. Y\n",
        "\n",
        "The configuration has [five sections](https://www.comet.ml/docs/python-sdk/introduction-optimizer/#optimizer-configuration), but we will only work with three for this example:\n",
        "\n",
        "- `algorithm`(string) - Which search algorithm to use. The Comet Optimizer supports:\n",
        "  - `grid` - Sweep algorithm based on picking parameter values from discrete, possibly sampled, regions\n",
        "  - `random` - Random sampling algorithm\n",
        "  - `bayes` - Bayesian algorithm based on distributions, balancing exploitation and exploration\n",
        "\n",
        "- `spec`(dictionary) - the specifications for the searching algorithm. This is where you will identify the maximum number of hyperparameter combinations to run (`maxCombo`), the metirc you want to optimize for(`metric`), and the whether this metric should be `maximized` or `minimzed` (via the `objective` parameter).\n",
        "\n",
        "- `parameters`(dictionary) - This is where you will put algorithm-specific hyperparameters. Since we're using `HistGradientBoostingClassifier`, we specify the parameters which are specific to that. \n",
        "\n",
        "Feel free to experiment with any of the other hyperparameters for this algorithim, you can learn more by visiting the [`scikit-learn docs`](https://scikit-learn.org/stable/modules/generated/sklearn.ensemble.HistGradientBoostingClassifier.html#sklearn.ensemble.HistGradientBoostingClassifier).\n",
        "\n",
        "\n",
        "Just a heads up,  I've left the `maxCombo` value at 5 for illustrative purposes, but you may want to change it for something more than that when you run it. Running this on Colab may take a long time."
      ]
    },
    {
      "cell_type": "code",
      "execution_count": null,
      "metadata": {
        "id": "CpfMoKI6Z4pn"
      },
      "outputs": [],
      "source": [
        "optimizer_config = {\n",
        "    \"algorithm\": \"bayes\",\n",
        "    \"spec\": {\n",
        "        \"maxCombo\":5,\n",
        "        \"metric\": \"cv_mean_test_average_precision\",\n",
        "        \"objective\": \"maximize\",\n",
        "    },\n",
        "    \"parameters\": {\n",
        "        \"learning_rate\": {\"type\": \"discrete\", \"values\": [0.0769, 0.5384, 0.8461]},\n",
        "        \"max_leaf_nodes\": {\"type\": \"discrete\", \"values\": [3, 5, 7, 11]}, \n",
        "        \"max_depth\": {\"type\": \"discrete\", \"values\": [3, 4, 5]},\n",
        "        \"min_samples_leaf\": {\"type\": \"discrete\", \"values\":  [1, 3, 5, 7]},    \n",
        "        \"l2_regularization\": {\"type\": \"discrete\", \"values\": [0.0769, 0.5384, 0.8461]},\n",
        "        \"random_state\":{\"type\": \"discrete\", \"values\": [42]},  \n",
        "    }\n",
        "}"
      ]
    },
    {
      "cell_type": "markdown",
      "metadata": {
        "id": "-TeaVh46ucha"
      },
      "source": [
        "# Step 2 - Write a Function for Cross Validation\n",
        "\n",
        "The function below will perform a cross validation and keep track of the two metrics we care most about, which are `average_precision` and `recall`.\n",
        "\n",
        "Note that we take the average value of the evaluation metrics across all folds for each iteration of the cross validation. \n",
        "\n",
        "This is done with the following line of code: `experiment.log_metrics({f\"cv_mean_{k}\": np.mean(scores)})`.\n",
        "\n",
        "Which is why we passed `cv_mean_test_average_precision` as the evaluation metric in the Optimizer configuration above."
      ]
    },
    {
      "cell_type": "code",
      "execution_count": null,
      "metadata": {
        "id": "eG-b7WU1Z4pn"
      },
      "outputs": [],
      "source": [
        "def run_search(experiment, model, X, y, cv):\n",
        "  # Run a cross validation on training set and \n",
        "  # compute the mean of the metrics: \n",
        "  #\n",
        "  results = cross_validate(\n",
        "      model, X, y, cv=cv, \n",
        "      scoring=[\n",
        "          \"average_precision\", \n",
        "          \"recall\"], return_train_score=True)\n",
        "  for k in results.keys():\n",
        "    scores = results[k]\n",
        "    experiment.log_metrics({f\"cv_mean_{k}\": np.mean(scores)})"
      ]
    },
    {
      "cell_type": "markdown",
      "metadata": {
        "id": "f583liR4wFLr"
      },
      "source": [
        "# Step 3 - Initialize Cross Validation and Optimizer"
      ]
    },
    {
      "cell_type": "code",
      "execution_count": null,
      "metadata": {
        "colab": {
          "base_uri": "https://localhost:8080/"
        },
        "id": "VcBjc-zGwFrH",
        "outputId": "c2e812a2-5522-4cdf-9966-1d2b2a2704f5"
      },
      "outputs": [
        {
          "name": "stderr",
          "output_type": "stream",
          "text": [
            "COMET INFO: COMET_OPTIMIZER_ID=b0d997b9a85d43d48a79e159fd91aa90\n",
            "COMET INFO: Using optimizer config: {'algorithm': 'bayes', 'configSpaceSize': 432, 'endTime': None, 'id': 'b0d997b9a85d43d48a79e159fd91aa90', 'lastUpdateTime': None, 'maxCombo': 5, 'name': 'b0d997b9a85d43d48a79e159fd91aa90', 'parameters': {'l2_regularization': {'type': 'discrete', 'values': [0.0769, 0.5384, 0.8461]}, 'learning_rate': {'type': 'discrete', 'values': [0.0769, 0.5384, 0.8461]}, 'max_depth': {'type': 'discrete', 'values': [3, 4, 5]}, 'max_leaf_nodes': {'type': 'discrete', 'values': [3, 5, 7, 11]}, 'min_samples_leaf': {'type': 'discrete', 'values': [1, 3, 5, 7]}, 'random_state': {'type': 'discrete', 'values': [42]}}, 'predictor': None, 'spec': {'gridSize': 10, 'maxCombo': 5, 'metric': 'cv_mean_test_average_precision', 'minSampleSize': 100, 'objective': 'maximize', 'retryAssignLimit': 0, 'retryLimit': 1000}, 'startTime': 24265775592, 'state': {'mode': None, 'seed': None, 'sequence': [], 'sequence_i': 0, 'sequence_pid': None, 'sequence_retry': 0, 'sequence_retry_count': 0}, 'status': 'running', 'suggestion_count': 0, 'trials': 1, 'version': '2.0.1'}\n"
          ]
        }
      ],
      "source": [
        "cv = StratifiedKFold(n_splits=3)\n",
        "optimizer = comet_ml.Optimizer(optimizer_config)"
      ]
    },
    {
      "cell_type": "markdown",
      "metadata": {
        "id": "tqWvCN_Zxwyu"
      },
      "source": [
        "# Step 4 - Run the Search!\n",
        "\n",
        "\n",
        "`Optimizer.get_parameters()` is a [`generator`]() which will allow us to iterate over all possible parameters for this sweep or search. \n",
        "\n",
        "Each parameters combinations will be emitted once, unless performing multiple trials per parameter set."
      ]
    },
    {
      "cell_type": "code",
      "execution_count": null,
      "metadata": {
        "colab": {
          "base_uri": "https://localhost:8080/"
        },
        "id": "cuBkWCHvZ4po",
        "outputId": "e0be22a9-837b-4eed-d3e4-8e6c80b3a491"
      },
      "outputs": [
        {
          "name": "stderr",
          "output_type": "stream",
          "text": [
            "COMET WARNING: As you are running in a Jupyter environment, you will need to call `experiment.end()` when finished to ensure all metrics and code are logged before exiting.\n",
            "COMET INFO: Couldn't find a Git repository in '/content' and lookings in parents. You can override where Comet is looking for a Git Patch by setting the configuration `COMET_GIT_DIRECTORY`\n",
            "COMET INFO: Experiment is live on comet.ml https://www.comet.ml/team-comet-ml/fraud-detection-demo/327e6e1b09a24eb78cee6ac6e9c9d860\n",
            "\n",
            "COMET INFO: ---------------------------\n",
            "COMET INFO: Comet.ml Experiment Summary\n",
            "COMET INFO: ---------------------------\n",
            "COMET INFO:   Data:\n",
            "COMET INFO:     display_summary_level : 1\n",
            "COMET INFO:     url                   : https://www.comet.ml/team-comet-ml/fraud-detection-demo/327e6e1b09a24eb78cee6ac6e9c9d860\n",
            "COMET INFO:   Metrics:\n",
            "COMET INFO:     cv_mean_fit_time                : 18.540867884953816\n",
            "COMET INFO:     cv_mean_score_time              : 6.221289873123169\n",
            "COMET INFO:     cv_mean_test_average_precision  : 0.9995371468347695\n",
            "COMET INFO:     cv_mean_test_recall             : 0.9974375099989518\n",
            "COMET INFO:     cv_mean_train_average_precision : 0.9996735597401666\n",
            "COMET INFO:     cv_mean_train_recall            : 0.997741616051283\n",
            "COMET INFO:   Others:\n",
            "COMET INFO:     optimizer_count        : 1\n",
            "COMET INFO:     optimizer_id           : b0d997b9a85d43d48a79e159fd91aa90\n",
            "COMET INFO:     optimizer_metric       : cv_mean_test_average_precision\n",
            "COMET INFO:     optimizer_metric_value : 0.9995371468347695\n",
            "COMET INFO:     optimizer_objective    : maximize\n",
            "COMET INFO:     optimizer_parameters   : {\"l2_regularization\": 0.5384, \"learning_rate\": 0.5384, \"max_depth\": 5, \"max_leaf_nodes\": 11, \"min_samples_leaf\": 5, \"random_state\": null}\n",
            "COMET INFO:     optimizer_pid          : 44793f347892c25297e4f25bc03bd44a3deb7fd3\n",
            "COMET INFO:     optimizer_process      : 64\n",
            "COMET INFO:     optimizer_trial        : 1\n",
            "COMET INFO:     optimizer_version      : 2.0.1\n",
            "COMET INFO:   Parameters:\n",
            "COMET INFO:     l2_regularization   : 0.5384\n",
            "COMET INFO:     learning_rate       : 0.5384\n",
            "COMET INFO:     loss                : binary_crossentropy\n",
            "COMET INFO:     max_bins            : 255\n",
            "COMET INFO:     max_depth           : 5\n",
            "COMET INFO:     max_iter            : 100\n",
            "COMET INFO:     max_leaf_nodes      : 11\n",
            "COMET INFO:     min_samples_leaf    : 5\n",
            "COMET INFO:     n_bins              : 256\n",
            "COMET INFO:     n_iter_no_change    : 1\n",
            "COMET INFO:     random_state        : 8\n",
            "COMET INFO:     scoring             : 1\n",
            "COMET INFO:     subsample           : 200000\n",
            "COMET INFO:     tol                 : 1e-07\n",
            "COMET INFO:     validation_fraction : 0.1\n",
            "COMET INFO:     verbose             : 0\n",
            "COMET INFO:     warm_start          : False\n",
            "COMET INFO:   Uploads:\n",
            "COMET INFO:     environment details : 1\n",
            "COMET INFO:     filename            : 1\n",
            "COMET INFO:     installed packages  : 1\n",
            "COMET INFO:     notebook            : 1\n",
            "COMET INFO:     os packages         : 1\n",
            "COMET INFO:     source_code         : 1\n",
            "COMET INFO: ---------------------------\n",
            "COMET INFO: Uploading 1 metrics, params and output messages\n",
            "COMET WARNING: As you are running in a Jupyter environment, you will need to call `experiment.end()` when finished to ensure all metrics and code are logged before exiting.\n",
            "COMET INFO: Couldn't find a Git repository in '/content' and lookings in parents. You can override where Comet is looking for a Git Patch by setting the configuration `COMET_GIT_DIRECTORY`\n",
            "COMET INFO: Experiment is live on comet.ml https://www.comet.ml/team-comet-ml/fraud-detection-demo/f4c89c97057748eb9d66c0f055fccb50\n",
            "\n",
            "COMET INFO: ---------------------------\n",
            "COMET INFO: Comet.ml Experiment Summary\n",
            "COMET INFO: ---------------------------\n",
            "COMET INFO:   Data:\n",
            "COMET INFO:     display_summary_level : 1\n",
            "COMET INFO:     url                   : https://www.comet.ml/team-comet-ml/fraud-detection-demo/f4c89c97057748eb9d66c0f055fccb50\n",
            "COMET INFO:   Metrics:\n",
            "COMET INFO:     cv_mean_fit_time                : 16.011210282643635\n",
            "COMET INFO:     cv_mean_score_time              : 4.974299351374309\n",
            "COMET INFO:     cv_mean_test_average_precision  : 0.9958046992700776\n",
            "COMET INFO:     cv_mean_test_recall             : 0.9642423690757934\n",
            "COMET INFO:     cv_mean_train_average_precision : 0.9958269427318\n",
            "COMET INFO:     cv_mean_train_recall            : 0.964325119022006\n",
            "COMET INFO:   Others:\n",
            "COMET INFO:     optimizer_count        : 2\n",
            "COMET INFO:     optimizer_id           : b0d997b9a85d43d48a79e159fd91aa90\n",
            "COMET INFO:     optimizer_metric       : cv_mean_test_average_precision\n",
            "COMET INFO:     optimizer_metric_value : 0.9958046992700776\n",
            "COMET INFO:     optimizer_objective    : maximize\n",
            "COMET INFO:     optimizer_parameters   : {\"l2_regularization\": 0.5384, \"learning_rate\": 0.0769, \"max_depth\": 3, \"max_leaf_nodes\": 11, \"min_samples_leaf\": 7, \"random_state\": null}\n",
            "COMET INFO:     optimizer_pid          : 68ba0294f67f62214319e9fd11ab8b5401bae0d3\n",
            "COMET INFO:     optimizer_process      : 64\n",
            "COMET INFO:     optimizer_trial        : 1\n",
            "COMET INFO:     optimizer_version      : 2.0.1\n",
            "COMET INFO:   Parameters:\n",
            "COMET INFO:     l2_regularization   : 0.5384\n",
            "COMET INFO:     learning_rate       : 0.0769\n",
            "COMET INFO:     loss                : binary_crossentropy\n",
            "COMET INFO:     max_bins            : 255\n",
            "COMET INFO:     max_depth           : 3\n",
            "COMET INFO:     max_iter            : 100\n",
            "COMET INFO:     max_leaf_nodes      : 11\n",
            "COMET INFO:     min_samples_leaf    : 7\n",
            "COMET INFO:     n_bins              : 256\n",
            "COMET INFO:     n_iter_no_change    : 1\n",
            "COMET INFO:     random_state        : 8\n",
            "COMET INFO:     scoring             : 1\n",
            "COMET INFO:     subsample           : 200000\n",
            "COMET INFO:     tol                 : 1e-07\n",
            "COMET INFO:     validation_fraction : 0.1\n",
            "COMET INFO:     verbose             : 0\n",
            "COMET INFO:     warm_start          : False\n",
            "COMET INFO:   Uploads:\n",
            "COMET INFO:     environment details : 1\n",
            "COMET INFO:     filename            : 1\n",
            "COMET INFO:     installed packages  : 1\n",
            "COMET INFO:     notebook            : 1\n",
            "COMET INFO:     os packages         : 1\n",
            "COMET INFO:     source_code         : 1\n",
            "COMET INFO: ---------------------------\n",
            "COMET INFO: Uploading 1 metrics, params and output messages\n",
            "COMET WARNING: As you are running in a Jupyter environment, you will need to call `experiment.end()` when finished to ensure all metrics and code are logged before exiting.\n",
            "COMET INFO: Couldn't find a Git repository in '/content' and lookings in parents. You can override where Comet is looking for a Git Patch by setting the configuration `COMET_GIT_DIRECTORY`\n",
            "COMET INFO: Experiment is live on comet.ml https://www.comet.ml/team-comet-ml/fraud-detection-demo/8dc7a3a5e221420d8d1cbf08d56af5f5\n",
            "\n",
            "COMET INFO: ---------------------------\n",
            "COMET INFO: Comet.ml Experiment Summary\n",
            "COMET INFO: ---------------------------\n",
            "COMET INFO:   Data:\n",
            "COMET INFO:     display_summary_level : 1\n",
            "COMET INFO:     url                   : https://www.comet.ml/team-comet-ml/fraud-detection-demo/8dc7a3a5e221420d8d1cbf08d56af5f5\n",
            "COMET INFO:   Metrics:\n",
            "COMET INFO:     cv_mean_fit_time                : 16.42255687713623\n",
            "COMET INFO:     cv_mean_score_time              : 5.224627494812012\n",
            "COMET INFO:     cv_mean_test_average_precision  : 0.9936492792503996\n",
            "COMET INFO:     cv_mean_test_recall             : 0.99445437443799\n",
            "COMET INFO:     cv_mean_train_average_precision : 0.9945122757717412\n",
            "COMET INFO:     cv_mean_train_recall            : 0.9948619179230866\n",
            "COMET INFO:   Others:\n",
            "COMET INFO:     optimizer_count        : 3\n",
            "COMET INFO:     optimizer_id           : b0d997b9a85d43d48a79e159fd91aa90\n",
            "COMET INFO:     optimizer_metric       : cv_mean_test_average_precision\n",
            "COMET INFO:     optimizer_metric_value : 0.9936492792503996\n",
            "COMET INFO:     optimizer_objective    : maximize\n",
            "COMET INFO:     optimizer_parameters   : {\"l2_regularization\": 0.5384, \"learning_rate\": 0.8461, \"max_depth\": 4, \"max_leaf_nodes\": 7, \"min_samples_leaf\": 1, \"random_state\": null}\n",
            "COMET INFO:     optimizer_pid          : 74bc0fd9e3998869bdd281554c6354476dfa2720\n",
            "COMET INFO:     optimizer_process      : 64\n",
            "COMET INFO:     optimizer_trial        : 1\n",
            "COMET INFO:     optimizer_version      : 2.0.1\n",
            "COMET INFO:   Parameters:\n",
            "COMET INFO:     l2_regularization   : 0.5384\n",
            "COMET INFO:     learning_rate       : 0.8461\n",
            "COMET INFO:     loss                : binary_crossentropy\n",
            "COMET INFO:     max_bins            : 255\n",
            "COMET INFO:     max_depth           : 4\n",
            "COMET INFO:     max_iter            : 100\n",
            "COMET INFO:     max_leaf_nodes      : 7\n",
            "COMET INFO:     min_samples_leaf    : 1\n",
            "COMET INFO:     n_bins              : 256\n",
            "COMET INFO:     n_iter_no_change    : 1\n",
            "COMET INFO:     random_state        : 8\n",
            "COMET INFO:     scoring             : 1\n",
            "COMET INFO:     subsample           : 200000\n",
            "COMET INFO:     tol                 : 1e-07\n",
            "COMET INFO:     validation_fraction : 0.1\n",
            "COMET INFO:     verbose             : 0\n",
            "COMET INFO:     warm_start          : False\n",
            "COMET INFO:   Uploads:\n",
            "COMET INFO:     environment details : 1\n",
            "COMET INFO:     filename            : 1\n",
            "COMET INFO:     installed packages  : 1\n",
            "COMET INFO:     notebook            : 1\n",
            "COMET INFO:     os packages         : 1\n",
            "COMET INFO:     source_code         : 1\n",
            "COMET INFO: ---------------------------\n",
            "COMET INFO: Uploading 1 metrics, params and output messages\n",
            "COMET WARNING: As you are running in a Jupyter environment, you will need to call `experiment.end()` when finished to ensure all metrics and code are logged before exiting.\n",
            "COMET INFO: Couldn't find a Git repository in '/content' and lookings in parents. You can override where Comet is looking for a Git Patch by setting the configuration `COMET_GIT_DIRECTORY`\n",
            "COMET INFO: Experiment is live on comet.ml https://www.comet.ml/team-comet-ml/fraud-detection-demo/b78f9c6fa6884e9db48ecf12bba452e3\n",
            "\n",
            "COMET INFO: ---------------------------\n",
            "COMET INFO: Comet.ml Experiment Summary\n",
            "COMET INFO: ---------------------------\n",
            "COMET INFO:   Data:\n",
            "COMET INFO:     display_summary_level : 1\n",
            "COMET INFO:     url                   : https://www.comet.ml/team-comet-ml/fraud-detection-demo/b78f9c6fa6884e9db48ecf12bba452e3\n",
            "COMET INFO:   Metrics:\n",
            "COMET INFO:     cv_mean_fit_time                : 19.474042256673176\n",
            "COMET INFO:     cv_mean_score_time              : 6.291119496027629\n",
            "COMET INFO:     cv_mean_test_average_precision  : 0.9981006986292341\n",
            "COMET INFO:     cv_mean_test_recall             : 0.9929759087323259\n",
            "COMET INFO:     cv_mean_train_average_precision : 0.9981290615415942\n",
            "COMET INFO:     cv_mean_train_recall            : 0.9929524629142324\n",
            "COMET INFO:   Others:\n",
            "COMET INFO:     optimizer_count        : 4\n",
            "COMET INFO:     optimizer_id           : b0d997b9a85d43d48a79e159fd91aa90\n",
            "COMET INFO:     optimizer_metric       : cv_mean_test_average_precision\n",
            "COMET INFO:     optimizer_metric_value : 0.9981006986292341\n",
            "COMET INFO:     optimizer_objective    : maximize\n",
            "COMET INFO:     optimizer_parameters   : {\"l2_regularization\": 0.0769, \"learning_rate\": 0.0769, \"max_depth\": 5, \"max_leaf_nodes\": 11, \"min_samples_leaf\": 3, \"random_state\": null}\n",
            "COMET INFO:     optimizer_pid          : d2fba6d4936e12f7051db4a46e891b7109cb11f4\n",
            "COMET INFO:     optimizer_process      : 64\n",
            "COMET INFO:     optimizer_trial        : 1\n",
            "COMET INFO:     optimizer_version      : 2.0.1\n",
            "COMET INFO:   Parameters:\n",
            "COMET INFO:     l2_regularization   : 0.0769\n",
            "COMET INFO:     learning_rate       : 0.0769\n",
            "COMET INFO:     loss                : binary_crossentropy\n",
            "COMET INFO:     max_bins            : 255\n",
            "COMET INFO:     max_depth           : 5\n",
            "COMET INFO:     max_iter            : 100\n",
            "COMET INFO:     max_leaf_nodes      : 11\n",
            "COMET INFO:     min_samples_leaf    : 3\n",
            "COMET INFO:     n_bins              : 256\n",
            "COMET INFO:     n_iter_no_change    : 1\n",
            "COMET INFO:     random_state        : 8\n",
            "COMET INFO:     scoring             : 1\n",
            "COMET INFO:     subsample           : 200000\n",
            "COMET INFO:     tol                 : 1e-07\n",
            "COMET INFO:     validation_fraction : 0.1\n",
            "COMET INFO:     verbose             : 0\n",
            "COMET INFO:     warm_start          : False\n",
            "COMET INFO:   Uploads:\n",
            "COMET INFO:     environment details : 1\n",
            "COMET INFO:     filename            : 1\n",
            "COMET INFO:     installed packages  : 1\n",
            "COMET INFO:     notebook            : 1\n",
            "COMET INFO:     os packages         : 1\n",
            "COMET INFO:     source_code         : 1\n",
            "COMET INFO: ---------------------------\n",
            "COMET INFO: Uploading 1 metrics, params and output messages\n",
            "COMET WARNING: As you are running in a Jupyter environment, you will need to call `experiment.end()` when finished to ensure all metrics and code are logged before exiting.\n",
            "COMET INFO: Couldn't find a Git repository in '/content' and lookings in parents. You can override where Comet is looking for a Git Patch by setting the configuration `COMET_GIT_DIRECTORY`\n",
            "COMET INFO: Experiment is live on comet.ml https://www.comet.ml/team-comet-ml/fraud-detection-demo/096408f1569b4cc9996b4e5ba058487a\n",
            "\n",
            "COMET INFO: ---------------------------\n",
            "COMET INFO: Comet.ml Experiment Summary\n",
            "COMET INFO: ---------------------------\n",
            "COMET INFO:   Data:\n",
            "COMET INFO:     display_summary_level : 1\n",
            "COMET INFO:     url                   : https://www.comet.ml/team-comet-ml/fraud-detection-demo/096408f1569b4cc9996b4e5ba058487a\n",
            "COMET INFO:   Metrics:\n",
            "COMET INFO:     cv_mean_fit_time                : 17.36097741127014\n",
            "COMET INFO:     cv_mean_score_time              : 5.772058486938477\n",
            "COMET INFO:     cv_mean_test_average_precision  : 0.998440182581699\n",
            "COMET INFO:     cv_mean_test_recall             : 0.9966982771461198\n",
            "COMET INFO:     cv_mean_train_average_precision : 0.9988213227149695\n",
            "COMET INFO:     cv_mean_train_recall            : 0.9970175540219232\n",
            "COMET INFO:   Others:\n",
            "COMET INFO:     optimizer_count        : 5\n",
            "COMET INFO:     optimizer_id           : b0d997b9a85d43d48a79e159fd91aa90\n",
            "COMET INFO:     optimizer_metric       : cv_mean_test_average_precision\n",
            "COMET INFO:     optimizer_metric_value : 0.998440182581699\n",
            "COMET INFO:     optimizer_objective    : maximize\n",
            "COMET INFO:     optimizer_parameters   : {\"l2_regularization\": 0.5384, \"learning_rate\": 0.8461, \"max_depth\": 4, \"max_leaf_nodes\": 11, \"min_samples_leaf\": 7, \"random_state\": null}\n",
            "COMET INFO:     optimizer_pid          : d1e6866018cf3e4b30296ea0f8f14f3e0d720dc5\n",
            "COMET INFO:     optimizer_process      : 64\n",
            "COMET INFO:     optimizer_trial        : 1\n",
            "COMET INFO:     optimizer_version      : 2.0.1\n",
            "COMET INFO:   Parameters:\n",
            "COMET INFO:     l2_regularization   : 0.5384\n",
            "COMET INFO:     learning_rate       : 0.8461\n",
            "COMET INFO:     loss                : binary_crossentropy\n",
            "COMET INFO:     max_bins            : 255\n",
            "COMET INFO:     max_depth           : 4\n",
            "COMET INFO:     max_iter            : 100\n",
            "COMET INFO:     max_leaf_nodes      : 11\n",
            "COMET INFO:     min_samples_leaf    : 7\n",
            "COMET INFO:     n_bins              : 256\n",
            "COMET INFO:     n_iter_no_change    : 1\n",
            "COMET INFO:     random_state        : 8\n",
            "COMET INFO:     scoring             : 1\n",
            "COMET INFO:     subsample           : 200000\n",
            "COMET INFO:     tol                 : 1e-07\n",
            "COMET INFO:     validation_fraction : 0.1\n",
            "COMET INFO:     verbose             : 0\n",
            "COMET INFO:     warm_start          : False\n",
            "COMET INFO:   Uploads:\n",
            "COMET INFO:     environment details : 1\n",
            "COMET INFO:     filename            : 1\n",
            "COMET INFO:     installed packages  : 1\n",
            "COMET INFO:     notebook            : 1\n",
            "COMET INFO:     os packages         : 1\n",
            "COMET INFO:     source_code         : 1\n",
            "COMET INFO: ---------------------------\n",
            "COMET INFO: Uploading 1 metrics, params and output messages\n",
            "COMET INFO: Optimizer search b0d997b9a85d43d48a79e159fd91aa90 has completed\n"
          ]
        }
      ],
      "source": [
        "for experiment in optimizer.get_experiments(workspace= 'team-comet-ml',project_name=\"fraud-detection-demo\"):\n",
        "  experiment.add_tag(\"Optimize-HGBclf\")\n",
        "  model = HistGradientBoostingClassifier(**{\n",
        "      \"loss\": \"binary_crossentropy\",\n",
        "      \"learning_rate\": experiment.get_parameter(\"learning_rate\"), \n",
        "      \"max_leaf_nodes\": experiment.get_parameter(\"max_leaf_nodes\"), \n",
        "      \"max_depth\": experiment.get_parameter(\"max_depth\"), \n",
        "      \"min_samples_leaf\": experiment.get_parameter(\"min_samples_leaf\"), \n",
        "      \"l2_regularization\": experiment.get_parameter(\"l2_regularization\"), \n",
        "  })\n",
        "\n",
        "  run_search(experiment, model, X_train_smt, y_train_smt, cv)\n",
        "  experiment.end()"
      ]
    },
    {
      "cell_type": "markdown",
      "metadata": {
        "id": "aq2Xwv_gy_fO"
      },
      "source": [
        "Let's go ahead and view the results from the sweep.\n",
        "\n",
        "Notice in the display below, right next to **Experiments** there's a filters button. We can click on that and add a filter, where column name is `TAG` and the tag is `Optimize-HGBclf`. \n",
        "\n",
        "Typically the experiments are displayed as the latest first.\n",
        "\n",
        "We can see that we get some pretty decent performance via cross valdation, with the experiment named `actual_cheese_3203` performing best (since it trained slightly faster than `continuing_adhesive_1153`).\n",
        "\n",
        "We can click into that experiment, scroll down to the Other tab, and graph the parameters from the `optimizer_parameters` field: `{\"l2_regularization\": 0.5384, \"learning_rate\": 0.8461, \"max_depth\": 4, \"max_leaf_nodes\": 11, \"min_samples_leaf\": 7, \"random_state\": null}`.\n",
        "\n",
        "You'll have to forgive me for not setting the random state in the parameters above, but we'll set it to be `42` when we train the model on the entire training data.\n",
        "\n"
      ]
    },
    {
      "cell_type": "code",
      "execution_count": null,
      "metadata": {
        "colab": {
          "base_uri": "https://localhost:8080/",
          "height": 822
        },
        "id": "d4AEJVbLEyiW",
        "outputId": "856a8aaf-caed-4b74-cf8b-78d1e8345dc6"
      },
      "outputs": [
        {
          "data": {
            "text/html": [
              "\n",
              "        <iframe\n",
              "            width=\"100%\"\n",
              "            height=\"800px\"\n",
              "            src=\"https://www.comet.ml/team-comet-ml/fraud-detection-demo/096408f1569b4cc9996b4e5ba058487a\"\n",
              "            frameborder=\"0\"\n",
              "            allowfullscreen\n",
              "        ></iframe>\n",
              "        "
            ],
            "text/plain": [
              "<IPython.lib.display.IFrame at 0x7fb0be70a810>"
            ]
          },
          "metadata": {},
          "output_type": "display_data"
        }
      ],
      "source": [
        "experiment.display()"
      ]
    },
    {
      "cell_type": "code",
      "execution_count": null,
      "metadata": {
        "colab": {
          "base_uri": "https://localhost:8080/"
        },
        "id": "wifPfaPu3E_h",
        "outputId": "8e5402c5-0674-4ac6-e253-1b27d8f8a752"
      },
      "outputs": [
        {
          "name": "stderr",
          "output_type": "stream",
          "text": [
            "COMET INFO: ---------------------------\n",
            "COMET INFO: Comet.ml Experiment Summary\n",
            "COMET INFO: ---------------------------\n",
            "COMET INFO:   Data:\n",
            "COMET INFO:     display_summary_level : 1\n",
            "COMET INFO:     url                   : https://www.comet.ml/team-comet-ml/fraud-detection-demo/8306623889f447298e7bfea70e2860c6\n",
            "COMET INFO:   Parameters:\n",
            "COMET INFO:     l2_regularization   : 0.5384\n",
            "COMET INFO:     learning_rate       : 0.8461\n",
            "COMET INFO:     loss                : binary_crossentropy\n",
            "COMET INFO:     max_bins            : 255\n",
            "COMET INFO:     max_depth           : 4\n",
            "COMET INFO:     max_iter            : 100\n",
            "COMET INFO:     max_leaf_nodes      : 11\n",
            "COMET INFO:     min_samples_leaf    : 7\n",
            "COMET INFO:     n_bins              : 256\n",
            "COMET INFO:     n_iter_no_change    : 1\n",
            "COMET INFO:     random_state        : 42\n",
            "COMET INFO:     scoring             : 1\n",
            "COMET INFO:     subsample           : 200000\n",
            "COMET INFO:     tol                 : 1e-07\n",
            "COMET INFO:     validation_fraction : 0.1\n",
            "COMET INFO:     verbose             : 0\n",
            "COMET INFO:     warm_start          : False\n",
            "COMET INFO:   Uploads:\n",
            "COMET INFO:     environment details : 1\n",
            "COMET INFO:     filename            : 1\n",
            "COMET INFO:     installed packages  : 1\n",
            "COMET INFO:     notebook            : 1\n",
            "COMET INFO:     os packages         : 1\n",
            "COMET INFO:     source_code         : 1\n",
            "COMET INFO: ---------------------------\n",
            "COMET WARNING: As you are running in a Jupyter environment, you will need to call `experiment.end()` when finished to ensure all metrics and code are logged before exiting.\n",
            "COMET INFO: Couldn't find a Git repository in '/content' and lookings in parents. You can override where Comet is looking for a Git Patch by setting the configuration `COMET_GIT_DIRECTORY`\n",
            "COMET INFO: Experiment is live on comet.ml https://www.comet.ml/team-comet-ml/fraud-detection-demo/a8c1e09977ba4eeaaa01a8242e0b1d58\n",
            "\n"
          ]
        },
        {
          "name": "stdout",
          "output_type": "stream",
          "text": [
            "fbeta_score for the final model is: 0.8799682735524809\n",
            "avg_precision for the final model is: 0.6197068578135242\n"
          ]
        }
      ],
      "source": [
        "#Comet experiment code\n",
        "experiment= Experiment(workspace= 'team-comet-ml',project_name=\"fraud-detection-demo\")\n",
        "experiment.add_tag('register-model')\n",
        "\n",
        "params = {\"l2_regularization\": 0.5384, \"learning_rate\": 0.8461, \"max_depth\": 4, \"max_leaf_nodes\": 11, \"min_samples_leaf\": 7}\n",
        "\n",
        "hgboost = HistGradientBoostingClassifier(**params, random_state=42, loss='binary_crossentropy')\n",
        "\n",
        "hgboost.fit(X_train_smt, y_train_smt)\n",
        "\n",
        "#Predict class probabilities and grab probability  of Class 1, which is fraud class\n",
        "\n",
        "y_proba = hgboost.predict_proba(X_test)[:, 1]\n",
        "\n",
        "#Apply business rule, if probability of  Class 1 is greater than or equal 0.80 classify as fraud case\n",
        "\n",
        "y_pred = np.where(y_proba >= 0.80, 1, 0)\n",
        "\n",
        "#calculate evaluation metrics\n",
        "\n",
        "f_beta = fbeta_score(y_test, y_pred, beta=2)\n",
        "print(f'fbeta_score for the final model is: {f_beta}')\n",
        "\n",
        "avg_precision = average_precision_score(y_test, y_pred)\n",
        "print(f'avg_precision for the final model is: {avg_precision}')\n",
        "\n",
        "#Comet experiment metadata\n",
        "metrics = {\"f_beta\": f_beta,\n",
        "            \"average_percision_score\": avg_precision,\n",
        "        }\n",
        "\n",
        "#Comet experiment code\n",
        "experiment.log_parameters(params)\n",
        "experiment.log_metrics(metrics)\n"
      ]
    },
    {
      "cell_type": "markdown",
      "metadata": {
        "id": "s6ew7Zc2Zr2M"
      },
      "source": [
        "We'll pickle the model and save it with the filename `hgbclf.sav`.\n",
        "\n",
        "We'll pass the following arguments to the `log_model` method of the `Experiment` object:\n",
        "\n",
        "- `name`: the name of the model as registered on Comet\n",
        "- `file_or_folder`: the location and file name of the model as saved on disk, in ourcase it's the name of the pickle object.\n",
        "- `file_name`: this will be saved in the \"Assets & Artifacts\" section of the experiment, and you can define what the folder structire would look like.\n",
        "\n",
        "For more information about registering an experiment, check out the Comet [docs](https://www.comet.ml/docs/user-interface/models/#2-register-a-model)."
      ]
    },
    {
      "cell_type": "code",
      "execution_count": null,
      "metadata": {
        "id": "8V1R_Vd-RT99"
      },
      "outputs": [],
      "source": [
        "import pickle\n",
        "model = pickle.dump(hgboost, open('hbgclf.sav', 'wb'))\n",
        "experiment.log_model(name='hgboost', file_or_folder='hbgclf.sav', file_name='../models/hbgclf-fraudetc.sav')\n",
        "experiment.end()"
      ]
    },
    {
      "cell_type": "code",
      "execution_count": null,
      "metadata": {
        "colab": {
          "base_uri": "https://localhost:8080/"
        },
        "id": "lkqxnaxmQ341",
        "outputId": "201411c2-87af-4150-a32a-e3c7238b8edb"
      },
      "outputs": [
        {
          "name": "stderr",
          "output_type": "stream",
          "text": [
            "COMET INFO: ---------------------------\n",
            "COMET INFO: Comet.ml Experiment Summary\n",
            "COMET INFO: ---------------------------\n",
            "COMET INFO:   Data:\n",
            "COMET INFO:     display_summary_level : 1\n",
            "COMET INFO:     url                   : https://www.comet.ml/team-comet-ml/fraud-detection-demo/a8c1e09977ba4eeaaa01a8242e0b1d58\n",
            "COMET INFO:   Metrics:\n",
            "COMET INFO:     average_percision_score : 0.6197068578135242\n",
            "COMET INFO:     f_beta                  : 0.8799682735524809\n",
            "COMET INFO:   Parameters:\n",
            "COMET INFO:     l2_regularization   : 0.5384\n",
            "COMET INFO:     learning_rate       : 0.8461\n",
            "COMET INFO:     loss                : binary_crossentropy\n",
            "COMET INFO:     max_bins            : 255\n",
            "COMET INFO:     max_depth           : 4\n",
            "COMET INFO:     max_iter            : 100\n",
            "COMET INFO:     max_leaf_nodes      : 11\n",
            "COMET INFO:     min_samples_leaf    : 7\n",
            "COMET INFO:     n_bins              : 256\n",
            "COMET INFO:     n_iter_no_change    : 1\n",
            "COMET INFO:     random_state        : 42\n",
            "COMET INFO:     scoring             : 1\n",
            "COMET INFO:     subsample           : 200000\n",
            "COMET INFO:     tol                 : 1e-07\n",
            "COMET INFO:     validation_fraction : 0.1\n",
            "COMET INFO:     verbose             : 0\n",
            "COMET INFO:     warm_start          : False\n",
            "COMET INFO:   Uploads:\n",
            "COMET INFO:     environment details : 1\n",
            "COMET INFO:     filename            : 1\n",
            "COMET INFO:     installed packages  : 1\n",
            "COMET INFO:     model-element       : 1 (150.53 KB)\n",
            "COMET INFO:     notebook            : 1\n",
            "COMET INFO:     os packages         : 1\n",
            "COMET INFO:     source_code         : 1\n",
            "COMET INFO: ---------------------------\n",
            "COMET INFO: Uploading 1 metrics, params and output messages\n",
            "COMET INFO: Waiting for completion of the file uploads (may take several seconds)\n",
            "COMET INFO: The Python SDK has 10800 seconds to finish before aborting...\n",
            "COMET INFO: All files uploaded, waiting for confirmation they have been all received\n"
          ]
        }
      ],
      "source": [
        "experiment.end()"
      ]
    }
  ],
  "metadata": {
    "colab": {
      "provenance": []
    },
    "kernelspec": {
      "display_name": "Python 3",
      "language": "python",
      "name": "python3"
    },
    "language_info": {
      "codemirror_mode": {
        "name": "ipython",
        "version": 3
      },
      "file_extension": ".py",
      "mimetype": "text/x-python",
      "name": "python",
      "nbconvert_exporter": "python",
      "pygments_lexer": "ipython3",
      "version": "3.11.1 (v3.11.1:a7a450f84a, Dec  6 2022, 15:24:06) [Clang 13.0.0 (clang-1300.0.29.30)]"
    },
    "vscode": {
      "interpreter": {
        "hash": "aee8b7b246df8f9039afb4144a1f6fd8d2ca17a180786b69acc140d282b71a49"
      }
    }
  },
  "nbformat": 4,
  "nbformat_minor": 0
}
